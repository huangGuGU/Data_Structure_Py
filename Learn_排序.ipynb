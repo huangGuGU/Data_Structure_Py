{
 "cells": [
  {
   "cell_type": "code",
   "execution_count": 2,
   "metadata": {},
   "outputs": [
    {
     "name": "stdout",
     "output_type": "stream",
     "text": [
      "True\n"
     ]
    }
   ],
   "source": [
    "# 冒泡排序\n",
    "# 冒泡排序多次遍历列表。它比较相邻的元素，将不合顺序的交换。每一轮遍历都将下一个最大值放到正确的位置上。\n",
    "# 本质上，每个元素通过“冒泡”找到自己所属的位置。\n",
    "import random\n",
    "\n",
    "def func(num_list):\n",
    "    for i in range(len(num_list)-1,-1,-1):  \n",
    "        for j in range(i):\n",
    "            if num_list[j] > num_list[j+1]: # 每次只和相邻的进行比较\n",
    "                num_list[j],num_list[j+1] =  num_list[j+1],num_list[j] # 如果不符合顺序就只会让相邻进行交换\n",
    "    return num_list\n",
    "\n",
    "\n",
    "num_list = random.sample(range(1, 15), 14)\n",
    "list_sort = sorted(num_list)\n",
    "print(func(num_list) == list_sort)\n",
    "                    "
   ]
  },
  {
   "cell_type": "code",
   "execution_count": 31,
   "metadata": {},
   "outputs": [
    {
     "name": "stdout",
     "output_type": "stream",
     "text": [
      "True\n"
     ]
    }
   ],
   "source": [
    "# 选择排序\n",
    "# 选择排序在冒泡排序的基础上做了改进，每次遍历列表时只做一次交换。\n",
    "# 要实现这一点，选 择排序在每次遍历时寻找最大值，并在遍历完之后将它放到正确位置上。\n",
    "# 和冒泡排序一样，第一次遍历后，最大的元素就位;第二次遍历后，第二大的元素就位，依此类推。若给n个元素排序，\n",
    "\n",
    "def func(num_list):\n",
    "    for i in range(len(num_list)-1,-1,-1):  \n",
    "        for j in range(i):\n",
    "            if num_list[j] > num_list[i]: # 和冒泡排序不同，选择排序是和i之内的所有数进行比较\n",
    "                num_list[j],num_list[i] =  num_list[i],num_list[j] # 遍历后可以使得最大的值放在最后\n",
    "    return num_list\n",
    "\n",
    "\n",
    "num_list = random.sample(range(1, 15), 14)\n",
    "list_sort = sorted(num_list)\n",
    "print(func(num_list) == list_sort)"
   ]
  },
  {
   "cell_type": "code",
   "execution_count": 59,
   "metadata": {},
   "outputs": [
    {
     "name": "stdout",
     "output_type": "stream",
     "text": [
      "True\n"
     ]
    }
   ],
   "source": [
    "# 插入排序\n",
    "# 插入排序的时间复杂度也是 O(n2 ) ，但原理稍有不同。\n",
    "# 它在列表较低的一端维护一个有序的子列表，并逐个将每个新元素“插入”这个子列表。\n",
    "# 首先假设位置 0 处的元素是只含单个元素的有序子列表。\n",
    "# 从元素 1 到元素 n–1，每一轮都将当前元素与有序子列表中的元素进行比较。\n",
    "# 在有序子列表中，将比它大的元素右移;当遇到一个比它小的元素或抵达子列表终点时，就可以插入当前元素。\n",
    "\n",
    "def func(num_list):\n",
    "    for i in range(len(num_list)):  \n",
    "        currentvalue = num_list[i]\n",
    "        position = i\n",
    "        while position > 0 and num_list[position-1] > currentvalue:  # 如果发现当前的值比前面列表里的值小\n",
    "            num_list[position] = num_list[position-1]  # 首先将当前值赋值为前面列表里比该值大的值，等于是一个个移开一个空位\n",
    "            position = position-1\n",
    "        num_list[position] = currentvalue # 最后将值放在相应的地方\n",
    "    return num_list\n",
    "\n",
    "\n",
    "num_list = random.sample(range(1, 15), 14)\n",
    "list_sort = sorted(num_list)\n",
    "print(func(num_list) == list_sort)"
   ]
  },
  {
   "cell_type": "code",
   "execution_count": 62,
   "metadata": {},
   "outputs": [
    {
     "name": "stdout",
     "output_type": "stream",
     "text": [
      "After increments of size 7 The list is [11, 1, 4, 6, 5, 3, 2, 14, 8, 10, 12, 9, 13, 7]\n",
      "After increments of size 3 The list is [2, 1, 3, 6, 5, 4, 10, 7, 8, 11, 12, 9, 13, 14]\n",
      "After increments of size 1 The list is [1, 2, 3, 4, 5, 6, 7, 8, 9, 10, 11, 12, 13, 14]\n",
      "True\n"
     ]
    }
   ],
   "source": [
    "# 希尔排序\n",
    "# 希尔排序也称“递减增量排序”，它对插入排序做了改进，将列表分成数个子列表，并对每 一个子列表应用插入排序。\n",
    "# 如何切分列表是希尔排序的关键——并不是连续切分，而是使用增量 i(有时称作步长)选取所有间隔为 i 的元素组成子列表。\n",
    "# 希尔排序的思想是使数组中任意间隔为 h 的元素都是有序的。这样的数组被称为 h 有序数组。\n",
    "\n",
    "# 换句话说，一个 h 有序数组就是 h 个互相独立的有序数组编织在一起组成的一个数组\n",
    "\n",
    "def shellSort(num_list):\n",
    "    sublistcount = len(num_list) // 2\n",
    "    while sublistcount > 0:\n",
    "        for startposition in range(sublistcount):\n",
    "            gapInsertionSort(num_list, startposition, sublistcount)\n",
    "        print(\"After increments of size\", sublistcount,\"The list is\", num_list)\n",
    "        sublistcount = sublistcount // 2\n",
    "    return num_list\n",
    "\n",
    "\n",
    "def gapInsertionSort(num_list, start, gap):  # 如果gap=1，那就是插入排序\n",
    "    for i in range(start+gap, len(num_list), gap):\n",
    "        currentvalue = num_list[i]\n",
    "        position = i\n",
    "        while position >= gap and num_list[position-gap] > currentvalue:\n",
    "            num_list[position] = num_list[position-gap]\n",
    "            position = position-gap\n",
    "        num_list[position] = currentvalue\n",
    "\n",
    "\n",
    "\n",
    "num_list = random.sample(range(1, 15), 14)\n",
    "list_sort = sorted(num_list)\n",
    "print(shellSort(num_list) == list_sort)\n"
   ]
  },
  {
   "cell_type": "code",
   "execution_count": 65,
   "metadata": {},
   "outputs": [
    {
     "name": "stdout",
     "output_type": "stream",
     "text": [
      "Splitting  [14, 2, 7, 9, 5, 6, 1, 4, 11, 13, 12, 3, 10, 8]\n",
      "Splitting  [14, 2, 7, 9, 5, 6, 1]\n",
      "Splitting  [14, 2, 7]\n",
      "Splitting  [14]\n",
      "Merging  [14]\n",
      "Splitting  [2, 7]\n",
      "Splitting  [2]\n",
      "Merging  [2]\n",
      "Splitting  [7]\n",
      "Merging  [7]\n",
      "Merging  [2, 7]\n",
      "Merging  [2, 7, 14]\n",
      "Splitting  [9, 5, 6, 1]\n",
      "Splitting  [9, 5]\n",
      "Splitting  [9]\n",
      "Merging  [9]\n",
      "Splitting  [5]\n",
      "Merging  [5]\n",
      "Merging  [5, 9]\n",
      "Splitting  [6, 1]\n",
      "Splitting  [6]\n",
      "Merging  [6]\n",
      "Splitting  [1]\n",
      "Merging  [1]\n",
      "Merging  [1, 6]\n",
      "Merging  [1, 5, 6, 9]\n",
      "Merging  [1, 2, 5, 6, 7, 9, 14]\n",
      "Splitting  [4, 11, 13, 12, 3, 10, 8]\n",
      "Splitting  [4, 11, 13]\n",
      "Splitting  [4]\n",
      "Merging  [4]\n",
      "Splitting  [11, 13]\n",
      "Splitting  [11]\n",
      "Merging  [11]\n",
      "Splitting  [13]\n",
      "Merging  [13]\n",
      "Merging  [11, 13]\n",
      "Merging  [4, 11, 13]\n",
      "Splitting  [12, 3, 10, 8]\n",
      "Splitting  [12, 3]\n",
      "Splitting  [12]\n",
      "Merging  [12]\n",
      "Splitting  [3]\n",
      "Merging  [3]\n",
      "Merging  [3, 12]\n",
      "Splitting  [10, 8]\n",
      "Splitting  [10]\n",
      "Merging  [10]\n",
      "Splitting  [8]\n",
      "Merging  [8]\n",
      "Merging  [8, 10]\n",
      "Merging  [3, 8, 10, 12]\n",
      "Merging  [3, 4, 8, 10, 11, 12, 13]\n",
      "Merging  [1, 2, 3, 4, 5, 6, 7, 8, 9, 10, 11, 12, 13, 14]\n",
      "True\n"
     ]
    }
   ],
   "source": [
    "# 归并排序\n",
    "# 归并排序是属于分治类的排序算法\n",
    "# 它是递归算法，每次将一个列表一分为二。如果列表为空或只有一个元素，那么从定义上来说它就是有序的(基本情况)。\n",
    "# 如果列表不止一个元素，就将列表一分为二，并对两部分都递归调用归并排序。\n",
    "# 当两部分都有序后，就进行归并这一基本操作。归并是指将两个较小的有序列表归并为一个有序列表的过程。\n",
    "\n",
    "\n",
    "def mergeSort(alist):\n",
    "    print(\"Splitting \", alist)\n",
    "    if len(alist) > 1:  # 如果不是单个数，那就分成两份\n",
    "        mid = len(alist) // 2\n",
    "        lefthalf = alist[:mid]\n",
    "        righthalf = alist[mid:]\n",
    "\n",
    "        mergeSort(lefthalf)  # 开始迭代\n",
    "        mergeSort(righthalf)\n",
    "\n",
    "        i=0\n",
    "        j=0\n",
    "        k=0\n",
    "        while i < len(lefthalf) and j < len(righthalf):\n",
    "            if lefthalf[i] < righthalf[j]: \n",
    "                alist[k] = lefthalf[i] \n",
    "                i=i+1\n",
    "            else:\n",
    "                alist[k] = righthalf[j] \n",
    "                j=j+1\n",
    "            k=k+1\n",
    "\n",
    "        while i < len(lefthalf): \n",
    "            alist[k] = lefthalf[i] \n",
    "            i=i+1\n",
    "            k=k+1\n",
    "\n",
    "        while j < len(righthalf): \n",
    "            alist[k] = righthalf[j] \n",
    "            j=j+1\n",
    "            k=k+1\n",
    "    print(\"Merging \", alist)\n",
    "    return alist\n",
    "\n",
    "\n",
    "\n",
    "num_list = random.sample(range(1, 15), 14)\n",
    "list_sort = sorted(num_list)\n",
    "print(mergeSort(num_list) == list_sort)"
   ]
  },
  {
   "cell_type": "code",
   "execution_count": 38,
   "metadata": {},
   "outputs": [
    {
     "ename": "IndexError",
     "evalue": "list index out of range",
     "output_type": "error",
     "traceback": [
      "\u001b[0;31m---------------------------------------------------------------------------\u001b[0m",
      "\u001b[0;31mIndexError\u001b[0m                                Traceback (most recent call last)",
      "\u001b[1;32m/Users/hzh/Library/Mobile Documents/com~apple~CloudDocs/程序/学习程序/数据结构与算法/Learn_排序.ipynb Cell 6\u001b[0m in \u001b[0;36m<cell line: 32>\u001b[0;34m()\u001b[0m\n\u001b[1;32m     <a href='vscode-notebook-cell:/Users/hzh/Library/Mobile%20Documents/com~apple~CloudDocs/%E7%A8%8B%E5%BA%8F/%E5%AD%A6%E4%B9%A0%E7%A8%8B%E5%BA%8F/%E6%95%B0%E6%8D%AE%E7%BB%93%E6%9E%84%E4%B8%8E%E7%AE%97%E6%B3%95/Learn_%E6%8E%92%E5%BA%8F.ipynb#X10sZmlsZQ%3D%3D?line=28'>29</a>\u001b[0m     \u001b[39mreturn\u001b[39;00m right\n\u001b[1;32m     <a href='vscode-notebook-cell:/Users/hzh/Library/Mobile%20Documents/com~apple~CloudDocs/%E7%A8%8B%E5%BA%8F/%E5%AD%A6%E4%B9%A0%E7%A8%8B%E5%BA%8F/%E6%95%B0%E6%8D%AE%E7%BB%93%E6%9E%84%E4%B8%8E%E7%AE%97%E6%B3%95/Learn_%E6%8E%92%E5%BA%8F.ipynb#X10sZmlsZQ%3D%3D?line=30'>31</a>\u001b[0m num_list \u001b[39m=\u001b[39m random\u001b[39m.\u001b[39msample(\u001b[39mrange\u001b[39m(\u001b[39m1\u001b[39m, \u001b[39m15\u001b[39m), \u001b[39m14\u001b[39m)\n\u001b[0;32m---> <a href='vscode-notebook-cell:/Users/hzh/Library/Mobile%20Documents/com~apple~CloudDocs/%E7%A8%8B%E5%BA%8F/%E5%AD%A6%E4%B9%A0%E7%A8%8B%E5%BA%8F/%E6%95%B0%E6%8D%AE%E7%BB%93%E6%9E%84%E4%B8%8E%E7%AE%97%E6%B3%95/Learn_%E6%8E%92%E5%BA%8F.ipynb#X10sZmlsZQ%3D%3D?line=31'>32</a>\u001b[0m quick_sort(num_list)\n\u001b[1;32m     <a href='vscode-notebook-cell:/Users/hzh/Library/Mobile%20Documents/com~apple~CloudDocs/%E7%A8%8B%E5%BA%8F/%E5%AD%A6%E4%B9%A0%E7%A8%8B%E5%BA%8F/%E6%95%B0%E6%8D%AE%E7%BB%93%E6%9E%84%E4%B8%8E%E7%AE%97%E6%B3%95/Learn_%E6%8E%92%E5%BA%8F.ipynb#X10sZmlsZQ%3D%3D?line=32'>33</a>\u001b[0m list_sort \u001b[39m=\u001b[39m \u001b[39msorted\u001b[39m(num_list)\n\u001b[1;32m     <a href='vscode-notebook-cell:/Users/hzh/Library/Mobile%20Documents/com~apple~CloudDocs/%E7%A8%8B%E5%BA%8F/%E5%AD%A6%E4%B9%A0%E7%A8%8B%E5%BA%8F/%E6%95%B0%E6%8D%AE%E7%BB%93%E6%9E%84%E4%B8%8E%E7%AE%97%E6%B3%95/Learn_%E6%8E%92%E5%BA%8F.ipynb#X10sZmlsZQ%3D%3D?line=33'>34</a>\u001b[0m \u001b[39mprint\u001b[39m(num_list\u001b[39m==\u001b[39mlist_sort)\n",
      "\u001b[1;32m/Users/hzh/Library/Mobile Documents/com~apple~CloudDocs/程序/学习程序/数据结构与算法/Learn_排序.ipynb Cell 6\u001b[0m in \u001b[0;36mquick_sort\u001b[0;34m(num_list)\u001b[0m\n\u001b[1;32m      <a href='vscode-notebook-cell:/Users/hzh/Library/Mobile%20Documents/com~apple~CloudDocs/%E7%A8%8B%E5%BA%8F/%E5%AD%A6%E4%B9%A0%E7%A8%8B%E5%BA%8F/%E6%95%B0%E6%8D%AE%E7%BB%93%E6%9E%84%E4%B8%8E%E7%AE%97%E6%B3%95/Learn_%E6%8E%92%E5%BA%8F.ipynb#X10sZmlsZQ%3D%3D?line=7'>8</a>\u001b[0m \u001b[39mdef\u001b[39;00m \u001b[39mquick_sort\u001b[39m(num_list):\n\u001b[0;32m----> <a href='vscode-notebook-cell:/Users/hzh/Library/Mobile%20Documents/com~apple~CloudDocs/%E7%A8%8B%E5%BA%8F/%E5%AD%A6%E4%B9%A0%E7%A8%8B%E5%BA%8F/%E6%95%B0%E6%8D%AE%E7%BB%93%E6%9E%84%E4%B8%8E%E7%AE%97%E6%B3%95/Learn_%E6%8E%92%E5%BA%8F.ipynb#X10sZmlsZQ%3D%3D?line=8'>9</a>\u001b[0m     quick_sort_between(num_list, \u001b[39m0\u001b[39;49m, \u001b[39mlen\u001b[39;49m(num_list) \u001b[39m-\u001b[39;49m \u001b[39m1\u001b[39;49m)\n",
      "\u001b[1;32m/Users/hzh/Library/Mobile Documents/com~apple~CloudDocs/程序/学习程序/数据结构与算法/Learn_排序.ipynb Cell 6\u001b[0m in \u001b[0;36mquick_sort_between\u001b[0;34m(num_list, first, last)\u001b[0m\n\u001b[1;32m      <a href='vscode-notebook-cell:/Users/hzh/Library/Mobile%20Documents/com~apple~CloudDocs/%E7%A8%8B%E5%BA%8F/%E5%AD%A6%E4%B9%A0%E7%A8%8B%E5%BA%8F/%E6%95%B0%E6%8D%AE%E7%BB%93%E6%9E%84%E4%B8%8E%E7%AE%97%E6%B3%95/Learn_%E6%8E%92%E5%BA%8F.ipynb#X10sZmlsZQ%3D%3D?line=0'>1</a>\u001b[0m \u001b[39mdef\u001b[39;00m \u001b[39mquick_sort_between\u001b[39m(num_list, first, last):\n\u001b[1;32m      <a href='vscode-notebook-cell:/Users/hzh/Library/Mobile%20Documents/com~apple~CloudDocs/%E7%A8%8B%E5%BA%8F/%E5%AD%A6%E4%B9%A0%E7%A8%8B%E5%BA%8F/%E6%95%B0%E6%8D%AE%E7%BB%93%E6%9E%84%E4%B8%8E%E7%AE%97%E6%B3%95/Learn_%E6%8E%92%E5%BA%8F.ipynb#X10sZmlsZQ%3D%3D?line=1'>2</a>\u001b[0m     \u001b[39mif\u001b[39;00m first \u001b[39m<\u001b[39m last:\n\u001b[0;32m----> <a href='vscode-notebook-cell:/Users/hzh/Library/Mobile%20Documents/com~apple~CloudDocs/%E7%A8%8B%E5%BA%8F/%E5%AD%A6%E4%B9%A0%E7%A8%8B%E5%BA%8F/%E6%95%B0%E6%8D%AE%E7%BB%93%E6%9E%84%E4%B8%8E%E7%AE%97%E6%B3%95/Learn_%E6%8E%92%E5%BA%8F.ipynb#X10sZmlsZQ%3D%3D?line=2'>3</a>\u001b[0m         m \u001b[39m=\u001b[39m partition(num_list, first, last)  \u001b[39m# arr[m] 作为划分标准\u001b[39;00m\n\u001b[1;32m      <a href='vscode-notebook-cell:/Users/hzh/Library/Mobile%20Documents/com~apple~CloudDocs/%E7%A8%8B%E5%BA%8F/%E5%AD%A6%E4%B9%A0%E7%A8%8B%E5%BA%8F/%E6%95%B0%E6%8D%AE%E7%BB%93%E6%9E%84%E4%B8%8E%E7%AE%97%E6%B3%95/Learn_%E6%8E%92%E5%BA%8F.ipynb#X10sZmlsZQ%3D%3D?line=3'>4</a>\u001b[0m         quick_sort_between(num_list, first, m \u001b[39m-\u001b[39m \u001b[39m1\u001b[39m)\n\u001b[1;32m      <a href='vscode-notebook-cell:/Users/hzh/Library/Mobile%20Documents/com~apple~CloudDocs/%E7%A8%8B%E5%BA%8F/%E5%AD%A6%E4%B9%A0%E7%A8%8B%E5%BA%8F/%E6%95%B0%E6%8D%AE%E7%BB%93%E6%9E%84%E4%B8%8E%E7%AE%97%E6%B3%95/Learn_%E6%8E%92%E5%BA%8F.ipynb#X10sZmlsZQ%3D%3D?line=4'>5</a>\u001b[0m         quick_sort_between(num_list, m \u001b[39m+\u001b[39m \u001b[39m1\u001b[39m, last)\n",
      "\u001b[1;32m/Users/hzh/Library/Mobile Documents/com~apple~CloudDocs/程序/学习程序/数据结构与算法/Learn_排序.ipynb Cell 6\u001b[0m in \u001b[0;36mpartition\u001b[0;34m(num_list, first, last)\u001b[0m\n\u001b[1;32m     <a href='vscode-notebook-cell:/Users/hzh/Library/Mobile%20Documents/com~apple~CloudDocs/%E7%A8%8B%E5%BA%8F/%E5%AD%A6%E4%B9%A0%E7%A8%8B%E5%BA%8F/%E6%95%B0%E6%8D%AE%E7%BB%93%E6%9E%84%E4%B8%8E%E7%AE%97%E6%B3%95/Learn_%E6%8E%92%E5%BA%8F.ipynb#X10sZmlsZQ%3D%3D?line=14'>15</a>\u001b[0m done \u001b[39m=\u001b[39m \u001b[39mFalse\u001b[39;00m\n\u001b[1;32m     <a href='vscode-notebook-cell:/Users/hzh/Library/Mobile%20Documents/com~apple~CloudDocs/%E7%A8%8B%E5%BA%8F/%E5%AD%A6%E4%B9%A0%E7%A8%8B%E5%BA%8F/%E6%95%B0%E6%8D%AE%E7%BB%93%E6%9E%84%E4%B8%8E%E7%AE%97%E6%B3%95/Learn_%E6%8E%92%E5%BA%8F.ipynb#X10sZmlsZQ%3D%3D?line=15'>16</a>\u001b[0m \u001b[39mwhile\u001b[39;00m \u001b[39mnot\u001b[39;00m done:\n\u001b[0;32m---> <a href='vscode-notebook-cell:/Users/hzh/Library/Mobile%20Documents/com~apple~CloudDocs/%E7%A8%8B%E5%BA%8F/%E5%AD%A6%E4%B9%A0%E7%A8%8B%E5%BA%8F/%E6%95%B0%E6%8D%AE%E7%BB%93%E6%9E%84%E4%B8%8E%E7%AE%97%E6%B3%95/Learn_%E6%8E%92%E5%BA%8F.ipynb#X10sZmlsZQ%3D%3D?line=17'>18</a>\u001b[0m     \u001b[39mwhile\u001b[39;00m  left\u001b[39m<\u001b[39m\u001b[39m=\u001b[39m\u001b[39mlen\u001b[39m(num_list) \u001b[39mand\u001b[39;00m num_list[left] \u001b[39m<\u001b[39m\u001b[39m=\u001b[39m base \u001b[39mand\u001b[39;00m left\u001b[39m<\u001b[39m\u001b[39m=\u001b[39m right  :\n\u001b[1;32m     <a href='vscode-notebook-cell:/Users/hzh/Library/Mobile%20Documents/com~apple~CloudDocs/%E7%A8%8B%E5%BA%8F/%E5%AD%A6%E4%B9%A0%E7%A8%8B%E5%BA%8F/%E6%95%B0%E6%8D%AE%E7%BB%93%E6%9E%84%E4%B8%8E%E7%AE%97%E6%B3%95/Learn_%E6%8E%92%E5%BA%8F.ipynb#X10sZmlsZQ%3D%3D?line=18'>19</a>\u001b[0m         left \u001b[39m+\u001b[39m\u001b[39m=\u001b[39m \u001b[39m1\u001b[39m\n\u001b[1;32m     <a href='vscode-notebook-cell:/Users/hzh/Library/Mobile%20Documents/com~apple~CloudDocs/%E7%A8%8B%E5%BA%8F/%E5%AD%A6%E4%B9%A0%E7%A8%8B%E5%BA%8F/%E6%95%B0%E6%8D%AE%E7%BB%93%E6%9E%84%E4%B8%8E%E7%AE%97%E6%B3%95/Learn_%E6%8E%92%E5%BA%8F.ipynb#X10sZmlsZQ%3D%3D?line=19'>20</a>\u001b[0m     \u001b[39mwhile\u001b[39;00m num_list[right] \u001b[39m>\u001b[39m\u001b[39m=\u001b[39m base \u001b[39mand\u001b[39;00m right\u001b[39m>\u001b[39m\u001b[39m=\u001b[39m left :\n",
      "\u001b[0;31mIndexError\u001b[0m: list index out of range"
     ]
    }
   ],
   "source": [
    "def quick_sort_between(num_list, first, last):\n",
    "    if first < last:\n",
    "        m = partition(num_list, first, last)  # arr[m] 作为划分标准\n",
    "        quick_sort_between(num_list, first, m - 1)\n",
    "        quick_sort_between(num_list, m + 1, last)\n",
    "\n",
    "\n",
    "def quick_sort(num_list):\n",
    "    quick_sort_between(num_list, 0, len(num_list) - 1)\n",
    "\n",
    "def partition(num_list, first, last):\n",
    "    base = num_list[first]\n",
    "    left = first + 1\n",
    "    right = last\n",
    "    done = False\n",
    "    while not done:\n",
    "\n",
    "        while num_list[left] <= base and left<= right  :\n",
    "            left += 1\n",
    "        while num_list[right] >= base and right>= left :\n",
    "            right -= 1\n",
    "        \n",
    "        if right < left:\n",
    "            done = True\n",
    "        else:\n",
    "            num_list[right], num_list[left] = num_list[left], num_list[right]\n",
    "\n",
    "    num_list[first], num_list[right] = num_list[right], num_list[first]\n",
    "    return right\n",
    "\n",
    "num_list = random.sample(range(1, 15), 14)\n",
    "quick_sort(num_list)\n",
    "list_sort = sorted(num_list)\n",
    "print(num_list==list_sort)"
   ]
  },
  {
   "cell_type": "code",
   "execution_count": 64,
   "metadata": {},
   "outputs": [
    {
     "name": "stdout",
     "output_type": "stream",
     "text": [
      "False\n"
     ]
    }
   ],
   "source": [
    "def partition(arr, low, high):\n",
    "    pivot, j = arr[low], low\n",
    "    for i in range(low + 1, high + 1):\n",
    "        if arr[i] <= pivot:\n",
    "            j += 1\n",
    "            arr[j], arr[i] = arr[i], arr[j]\n",
    "    arr[low], arr[j] = arr[j], arr[low]\n",
    "    return j \n",
    "\n",
    "def quick_sort_between(arr, low, high):\n",
    "    if high-low <= 1: # 递归结束条件\n",
    "        return\n",
    "\n",
    "    m = partition(arr, low, high)  # arr[m] 作为划分标准\n",
    "    quick_sort_between(arr, low, m - 1)\n",
    "    quick_sort_between(arr, m + 1, high)\n",
    "\n",
    "def quick_sort(arr):\n",
    "    \"\"\"\n",
    "    快速排序(in-place)\n",
    "    :param arr: 待排序的List\n",
    "    :return: 快速排序是就地排序(in-place)\n",
    "    \"\"\"\n",
    "    quick_sort_between(arr,0, len(arr) - 1)\n",
    "\n",
    "\n",
    "arr = [random.randint(0,100) for _ in range(10)]\n",
    "a = sorted(arr)\n",
    "quick_sort(arr)\n",
    "print(arr==a)"
   ]
  },
  {
   "cell_type": "code",
   "execution_count": null,
   "metadata": {},
   "outputs": [],
   "source": []
  }
 ],
 "metadata": {
  "kernelspec": {
   "display_name": "Python 3.8.6 64-bit ('tfpy39')",
   "language": "python",
   "name": "python3"
  },
  "language_info": {
   "codemirror_mode": {
    "name": "ipython",
    "version": 3
   },
   "file_extension": ".py",
   "mimetype": "text/x-python",
   "name": "python",
   "nbconvert_exporter": "python",
   "pygments_lexer": "ipython3",
   "version": "3.8.6"
  },
  "orig_nbformat": 4,
  "vscode": {
   "interpreter": {
    "hash": "7c98f917436e91ad7f0c3d4f5d9b3df817d2512acd5c63c803caddd09106776b"
   }
  }
 },
 "nbformat": 4,
 "nbformat_minor": 2
}
