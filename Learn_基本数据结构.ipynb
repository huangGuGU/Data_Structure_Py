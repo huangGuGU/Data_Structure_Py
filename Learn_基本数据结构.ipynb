{
 "cells": [
  {
   "cell_type": "markdown",
   "metadata": {},
   "source": [
    "# 栈\n",
    "\n",
    "栈中的元素离底端越近，代表其在栈中的时间越长，因此栈的底端具有非常重要的意义。最 新添加的元素将被最先移除。这种排序原则被称作 LIFO(last-in first-out)，即后进先出。"
   ]
  },
  {
   "cell_type": "markdown",
   "metadata": {},
   "source": [
    "1.匹配括号问题 比如（）（） ，（（））是true ； （（（）是false\n",
    "\n",
    "思路：由一个空栈开始，从左 往右依次处理括号。如果遇到左括号，便通过 push 操作将其加入栈中，以此表示稍后需要有一 个与之匹配的右括号。反之，如果遇到右括号，就调用 pop 操作。只要栈中的所有左括号都能 遇到与之匹配的右括号，那么整个括号串就是匹配的;如果栈中有任何一个左括号找不到与之匹 配的右括号，则括号串就是不匹配的。"
   ]
  },
  {
   "cell_type": "code",
   "execution_count": 4,
   "metadata": {},
   "outputs": [
    {
     "name": "stdout",
     "output_type": "stream",
     "text": [
      "true\n"
     ]
    }
   ],
   "source": [
    "from pythonds.basic import Stack\n",
    "def valid(list):\n",
    "    flag = True\n",
    "    stack = Stack()\n",
    "    for i in list:\n",
    "        if i =='(':\n",
    "            stack.push(i)\n",
    "        elif i == ')':\n",
    "            if stack.isEmpty():\n",
    "                flag = False\n",
    "                break\n",
    "            \n",
    "            else:\n",
    "                stack.pop()\n",
    " \n",
    "        else:\n",
    "            print('未知符号')\n",
    "            break\n",
    "\n",
    "    \n",
    "    if stack.isEmpty() and flag:\n",
    "        print('true')\n",
    "    else:\n",
    "        print('false')\n",
    "\n",
    "\n",
    "\n",
    "s = \"((()()))\"\n",
    "\n",
    "valid(s )"
   ]
  },
  {
   "cell_type": "markdown",
   "metadata": {},
   "source": [
    "2.十进制变成二进制\n",
    "\n",
    "在把十进制变成二进制的方法是把数字对2求余，并且最后反转每一次余数的结果，所以又符合栈的反转特性。"
   ]
  },
  {
   "cell_type": "code",
   "execution_count": 11,
   "metadata": {},
   "outputs": [
    {
     "data": {
      "text/plain": [
       "'11101001'"
      ]
     },
     "execution_count": 11,
     "metadata": {},
     "output_type": "execute_result"
    }
   ],
   "source": [
    "from pythonds.basic import Stack\n",
    "def toBin(num):\n",
    "    s = ''\n",
    "    stack = Stack()\n",
    "    while num >0:\n",
    "        rem = num%2\n",
    "        num = num//2\n",
    "        stack.push(rem)\n",
    "    \n",
    "\n",
    "    while stack.isEmpty()== False:  \n",
    "        n = str(stack.pop())\n",
    "        s = s+n\n",
    "    return s\n",
    "\n",
    "result = toBin(233)\n",
    "result"
   ]
  },
  {
   "cell_type": "markdown",
   "metadata": {},
   "source": [
    "## 前序、中序和后序表达式\n",
    "\n",
    "对于像 B * C 这样的算术表达式，可以根据其形式来正确地运算。在 B * C 的例子中，由 于乘号*出现在两个变量之间，因此我们知道应该用变量 B 乘以变量 C。因为运算符出现在两个 操作数的中间，所以这种表达式被称作**中序表达式**。"
   ]
  },
  {
   "cell_type": "markdown",
   "metadata": {},
   "source": [
    "前序表达 式要求所有的运算符出现在它所作用的两个操作数之前，后序表达式则相反。\n",
    "\n",
    "中          前          后\n",
    "\n",
    "\n",
    "A+B       +AB        AB+\n",
    "\n",
    "\n",
    "A+B*C        +A*BC        ABC*+\n",
    "\n",
    "\n",
    "A + B * C 对应的后序表达式是 A B C * +。运算顺序仍然得以正确保留，这是由于乘号 紧跟 B 和 C 出现，意味着它的优先级比加号更高。尽管运算符被移到了操作数的前面或者后面， 但是运算顺序并没有改变。\n"
   ]
  },
  {
   "cell_type": "markdown",
   "metadata": {},
   "source": [
    "现在来看看中序表达式(A + B) * C。括号用来保证加号的优先级高于乘号。但是，当 A + B 被写成前序表达式时，只需将加号移到操作数之前，即+ A B。于是，加法结果就成了乘 号的第一个操作数。乘号被移到整个表达式的最前面，从而得到* + A B C。同理，后序表达 式 A B +保证优先计算加法。乘法则在得到加法结果之后再计算。因此，正确的后序表达式为 A B + C *。"
   ]
  },
  {
   "cell_type": "code",
   "execution_count": 13,
   "metadata": {},
   "outputs": [
    {
     "name": "stdout",
     "output_type": "stream",
     "text": [
      "AD*B+C*\n"
     ]
    }
   ],
   "source": [
    "## 使用栈来实现转换成后续表达式\n",
    "\n",
    "# (1) 创建用于保存运算符的空栈 opstack，以及一个用于保存结果的空列表。\n",
    "\n",
    "# (2) 使用字符串方法 split 将输入的中序表达式转换成一个列表。\n",
    "\n",
    "# (3) 从左往右扫描这个标记列表。\n",
    "# 如果标记是操作数，将其添加到结果列表的末尾。\n",
    "# 如果标记是左括号，将其压入 opstack 栈中。\n",
    "# 如果标记是右括号，反复从 opstack 栈中移除元素，直到移除对应的左括号。将从栈中取出的每一个运算符都添加到结果列表的末尾。\n",
    "# 如果标记是运算符，将其压入 opstack 栈中。但是，在这之前，需要先从栈中取出优先级更高或相同的运算符，并将它们添加到结果列表的末尾。\n",
    "\n",
    "# (4) 当处理完输入表达式以后，检查 opstack。将其中所有残留的运算符全部添加到结果列表的末尾。\n",
    "\n",
    "\n",
    "\n",
    "\n",
    "from pythonds.basic import Stack\n",
    "\n",
    "def toback(list):\n",
    "    pre = {'*':3,'/':3,'+':2,'-':2,'(':1}\n",
    "    opstack = Stack()\n",
    "    result = []\n",
    "    for i in list:\n",
    "        if ord(i)>=ord(\"A\") and  ord(i)<=ord(\"Z\"):\n",
    "            result.append(i)\n",
    "        elif i ==\"(\":\n",
    "            opstack.push(i)\n",
    "        elif i ==\")\":\n",
    "            a = opstack.pop()\n",
    "            while a != \"(\":\n",
    "                result.append(a)\n",
    "                a = opstack.pop()\n",
    "                \n",
    "        else:\n",
    "            while ( not  opstack.isEmpty() ) and (pre[opstack.peek()]>=pre[i]):\n",
    "                result.append(opstack.pop())\n",
    "            opstack.push(i)\n",
    "\n",
    "    while not  opstack.isEmpty() :\n",
    "        c = opstack.pop()\n",
    "        result.append(c)\n",
    "    result = \"\".join(result)\n",
    "    return result\n",
    "\n",
    "# s = \"(A+B)*(C+D)\"\n",
    "s = \"(A*D+B)*C\"\n",
    "print(toback(s))"
   ]
  },
  {
   "cell_type": "code",
   "execution_count": 3,
   "metadata": {},
   "outputs": [
    {
     "name": "stdout",
     "output_type": "stream",
     "text": [
      "3.0\n"
     ]
    }
   ],
   "source": [
    "# 使用后序表达式计算值\n",
    "# (1) 创建空栈 operandStack。\n",
    "\n",
    "# (2) 使用字符串方法 split 将输入的后序表达式转换成一个列表。\n",
    "\n",
    "# (3) 从左往右扫描这个标记列表。\n",
    "# 如果标记是操作数，将其转换成整数并且压入 operandStack 栈中。\n",
    "# 如果标记是运算符，从 operandStack 栈中取出两个操作数。第一次取出右操作数，第 二次取出左操作数。进行相应的算术运算，然后将运算结果压入 operandStack 栈中。\n",
    "\n",
    "# (4) 当处理完输入表达式时，栈中的值就是结果。将其从栈中返回。\n",
    "\n",
    "\n",
    "from pythonds.basic import Stack\n",
    "def calculate(list):\n",
    "    opstack = Stack()\n",
    "    for i in list:\n",
    "        if ord(i)>=ord(\"0\") and  ord(i)<=ord(\"9\"):\n",
    "            opstack.push(int(i))\n",
    "        \n",
    "        else:\n",
    "            a = opstack.pop()\n",
    "            b = opstack.pop()\n",
    "            if i == '*':\n",
    "                opstack.push(b*a)\n",
    "            \n",
    "            elif i == '/':\n",
    "                opstack.push(b/a)\n",
    "            elif i == '+':\n",
    "                opstack.push(b+a)\n",
    "            else:\n",
    "                opstack.push(b-a)\n",
    "\n",
    "    return opstack.pop()\n",
    "\n",
    "\n",
    "s = \"78+32+/\"\n",
    "\n",
    "print(calculate(s))\n"
   ]
  },
  {
   "cell_type": "markdown",
   "metadata": {},
   "source": [
    "# 队列\n",
    "\n",
    "最新添加的元素必须在队列的尾部等待，在队列中时间最长的元素则排在最前面。这种排序原则被称作 FIFO(first-in first-out)，即先进先出，也称先到先得。"
   ]
  },
  {
   "cell_type": "code",
   "execution_count": 1,
   "metadata": {},
   "outputs": [
    {
     "name": "stdout",
     "output_type": "stream",
     "text": [
      "任务20已经完成，耗时3秒\n",
      "任务19已经完成，耗时1秒\n",
      "任务18已经完成，耗时6秒\n"
     ]
    },
    {
     "ename": "KeyboardInterrupt",
     "evalue": "",
     "output_type": "error",
     "traceback": [
      "\u001b[0;31m---------------------------------------------------------------------------\u001b[0m",
      "\u001b[0;31mKeyboardInterrupt\u001b[0m                         Traceback (most recent call last)",
      "\u001b[1;32m/Users/hzh/Library/Mobile Documents/com~apple~CloudDocs/程序/学习程序/知识点/数据结构与算法/Learn_基本数据结构.ipynb Cell 15\u001b[0m in \u001b[0;36m<cell line: 47>\u001b[0;34m()\u001b[0m\n\u001b[1;32m     <a href='vscode-notebook-cell:/Users/hzh/Library/Mobile%20Documents/com~apple~CloudDocs/%E7%A8%8B%E5%BA%8F/%E5%AD%A6%E4%B9%A0%E7%A8%8B%E5%BA%8F/%E7%9F%A5%E8%AF%86%E7%82%B9/%E6%95%B0%E6%8D%AE%E7%BB%93%E6%9E%84%E4%B8%8E%E7%AE%97%E6%B3%95/Learn_%E5%9F%BA%E6%9C%AC%E6%95%B0%E6%8D%AE%E7%BB%93%E6%9E%84.ipynb#ch0000014?line=47'>48</a>\u001b[0m     time\u001b[39m.\u001b[39msleep(\u001b[39m1\u001b[39m)\n\u001b[1;32m     <a href='vscode-notebook-cell:/Users/hzh/Library/Mobile%20Documents/com~apple~CloudDocs/%E7%A8%8B%E5%BA%8F/%E5%AD%A6%E4%B9%A0%E7%A8%8B%E5%BA%8F/%E7%9F%A5%E8%AF%86%E7%82%B9/%E6%95%B0%E6%8D%AE%E7%BB%93%E6%9E%84%E4%B8%8E%E7%AE%97%E6%B3%95/Learn_%E5%9F%BA%E6%9C%AC%E6%95%B0%E6%8D%AE%E7%BB%93%E6%9E%84.ipynb#ch0000014?line=48'>49</a>\u001b[0m     pm\u001b[39m.\u001b[39mcreateTask(Tasknum)\n\u001b[0;32m---> <a href='vscode-notebook-cell:/Users/hzh/Library/Mobile%20Documents/com~apple~CloudDocs/%E7%A8%8B%E5%BA%8F/%E5%AD%A6%E4%B9%A0%E7%A8%8B%E5%BA%8F/%E7%9F%A5%E8%AF%86%E7%82%B9/%E6%95%B0%E6%8D%AE%E7%BB%93%E6%9E%84%E4%B8%8E%E7%AE%97%E6%B3%95/Learn_%E5%9F%BA%E6%9C%AC%E6%95%B0%E6%8D%AE%E7%BB%93%E6%9E%84.ipynb#ch0000014?line=49'>50</a>\u001b[0m     pm\u001b[39m.\u001b[39;49mgiveTask(Tasknum)\n\u001b[1;32m     <a href='vscode-notebook-cell:/Users/hzh/Library/Mobile%20Documents/com~apple~CloudDocs/%E7%A8%8B%E5%BA%8F/%E5%AD%A6%E4%B9%A0%E7%A8%8B%E5%BA%8F/%E7%9F%A5%E8%AF%86%E7%82%B9/%E6%95%B0%E6%8D%AE%E7%BB%93%E6%9E%84%E4%B8%8E%E7%AE%97%E6%B3%95/Learn_%E5%9F%BA%E6%9C%AC%E6%95%B0%E6%8D%AE%E7%BB%93%E6%9E%84.ipynb#ch0000014?line=51'>52</a>\u001b[0m     Tasknum \u001b[39m-\u001b[39m\u001b[39m=\u001b[39m\u001b[39m1\u001b[39m\n\u001b[1;32m     <a href='vscode-notebook-cell:/Users/hzh/Library/Mobile%20Documents/com~apple~CloudDocs/%E7%A8%8B%E5%BA%8F/%E5%AD%A6%E4%B9%A0%E7%A8%8B%E5%BA%8F/%E7%9F%A5%E8%AF%86%E7%82%B9/%E6%95%B0%E6%8D%AE%E7%BB%93%E6%9E%84%E4%B8%8E%E7%AE%97%E6%B3%95/Learn_%E5%9F%BA%E6%9C%AC%E6%95%B0%E6%8D%AE%E7%BB%93%E6%9E%84.ipynb#ch0000014?line=53'>54</a>\u001b[0m \u001b[39mprint\u001b[39m(timelist)\n",
      "\u001b[1;32m/Users/hzh/Library/Mobile Documents/com~apple~CloudDocs/程序/学习程序/知识点/数据结构与算法/Learn_基本数据结构.ipynb Cell 15\u001b[0m in \u001b[0;36mPrintMachine.giveTask\u001b[0;34m(self, Tasknum)\u001b[0m\n\u001b[1;32m     <a href='vscode-notebook-cell:/Users/hzh/Library/Mobile%20Documents/com~apple~CloudDocs/%E7%A8%8B%E5%BA%8F/%E5%AD%A6%E4%B9%A0%E7%A8%8B%E5%BA%8F/%E7%9F%A5%E8%AF%86%E7%82%B9/%E6%95%B0%E6%8D%AE%E7%BB%93%E6%9E%84%E4%B8%8E%E7%AE%97%E6%B3%95/Learn_%E5%9F%BA%E6%9C%AC%E6%95%B0%E6%8D%AE%E7%BB%93%E6%9E%84.ipynb#ch0000014?line=29'>30</a>\u001b[0m \u001b[39mif\u001b[39;00m queue\u001b[39m.\u001b[39msize()\u001b[39m<\u001b[39m\u001b[39m5\u001b[39m:\n\u001b[1;32m     <a href='vscode-notebook-cell:/Users/hzh/Library/Mobile%20Documents/com~apple~CloudDocs/%E7%A8%8B%E5%BA%8F/%E5%AD%A6%E4%B9%A0%E7%A8%8B%E5%BA%8F/%E7%9F%A5%E8%AF%86%E7%82%B9/%E6%95%B0%E6%8D%AE%E7%BB%93%E6%9E%84%E4%B8%8E%E7%AE%97%E6%B3%95/Learn_%E5%9F%BA%E6%9C%AC%E6%95%B0%E6%8D%AE%E7%BB%93%E6%9E%84.ipynb#ch0000014?line=30'>31</a>\u001b[0m     t1 \u001b[39m=\u001b[39m random\u001b[39m.\u001b[39msample(\u001b[39mrange\u001b[39m(\u001b[39m1\u001b[39m, \u001b[39mself\u001b[39m\u001b[39m.\u001b[39mt),\u001b[39m1\u001b[39m)[\u001b[39m0\u001b[39m]\n\u001b[0;32m---> <a href='vscode-notebook-cell:/Users/hzh/Library/Mobile%20Documents/com~apple~CloudDocs/%E7%A8%8B%E5%BA%8F/%E5%AD%A6%E4%B9%A0%E7%A8%8B%E5%BA%8F/%E7%9F%A5%E8%AF%86%E7%82%B9/%E6%95%B0%E6%8D%AE%E7%BB%93%E6%9E%84%E4%B8%8E%E7%AE%97%E6%B3%95/Learn_%E5%9F%BA%E6%9C%AC%E6%95%B0%E6%8D%AE%E7%BB%93%E6%9E%84.ipynb#ch0000014?line=31'>32</a>\u001b[0m     time\u001b[39m.\u001b[39;49msleep(t1)  \u001b[39m# 随机时长\u001b[39;00m\n\u001b[1;32m     <a href='vscode-notebook-cell:/Users/hzh/Library/Mobile%20Documents/com~apple~CloudDocs/%E7%A8%8B%E5%BA%8F/%E5%AD%A6%E4%B9%A0%E7%A8%8B%E5%BA%8F/%E7%9F%A5%E8%AF%86%E7%82%B9/%E6%95%B0%E6%8D%AE%E7%BB%93%E6%9E%84%E4%B8%8E%E7%AE%97%E6%B3%95/Learn_%E5%9F%BA%E6%9C%AC%E6%95%B0%E6%8D%AE%E7%BB%93%E6%9E%84.ipynb#ch0000014?line=32'>33</a>\u001b[0m     queue\u001b[39m.\u001b[39mdequeue()  \u001b[39m# 打印\u001b[39;00m\n\u001b[1;32m     <a href='vscode-notebook-cell:/Users/hzh/Library/Mobile%20Documents/com~apple~CloudDocs/%E7%A8%8B%E5%BA%8F/%E5%AD%A6%E4%B9%A0%E7%A8%8B%E5%BA%8F/%E7%9F%A5%E8%AF%86%E7%82%B9/%E6%95%B0%E6%8D%AE%E7%BB%93%E6%9E%84%E4%B8%8E%E7%AE%97%E6%B3%95/Learn_%E5%9F%BA%E6%9C%AC%E6%95%B0%E6%8D%AE%E7%BB%93%E6%9E%84.ipynb#ch0000014?line=33'>34</a>\u001b[0m     \u001b[39mprint\u001b[39m(\u001b[39mf\u001b[39m\u001b[39m'\u001b[39m\u001b[39m任务\u001b[39m\u001b[39m{\u001b[39;00mTasknum\u001b[39m}\u001b[39;00m\u001b[39m已经完成，耗时\u001b[39m\u001b[39m{\u001b[39;00mt1\u001b[39m}\u001b[39;00m\u001b[39m秒\u001b[39m\u001b[39m'\u001b[39m)\n",
      "\u001b[0;31mKeyboardInterrupt\u001b[0m: "
     ]
    }
   ],
   "source": [
    "# 模拟一个打印任务\n",
    "# (1) 创建一个打印任务队列。每一个任务到来时都会有一个时间戳。一开始，队列是空的。 \n",
    "\n",
    "# (2) 针对每一秒(currentSecond)，执行以下操作。\n",
    "#  是否有新创建的打印任务?如果是，以 currentSecond 作为其时间戳并将该任务加入 到队列中。\n",
    "#  如果打印机空闲，并且有正在等待执行的任务，执行以下操作:\n",
    "#  从队列中取出第一个任务并提交给打印机;\n",
    "#  用 currentSecond 减去该任务的时间戳，以此计算其等待时间;  将该任务的等待时间存入一个列表，以备后用;\n",
    "#  根据该任务的页数，计算执行时间。\n",
    "#  打印机进行一秒的打印，同时从该任务的执行时间中减去一秒。\n",
    "#  如果打印任务执行完毕，或者说任务需要的时间减为 0，则说明打印机回到空闲状态。\n",
    "\n",
    "# (3) 当模拟完成之后，根据等待时间列表中的值计算平均等待时间。\n",
    "\n",
    "\n",
    "from pythonds.basic import Queue\n",
    "import time\n",
    "import random\n",
    "\n",
    "queue = Queue()\n",
    "timelist = []\n",
    "\n",
    "class PrintMachine():\n",
    "\n",
    "    def __init__(self,t):\n",
    "        self.t = t\n",
    "\n",
    "\n",
    "    def giveTask(self,Tasknum):\n",
    "        if queue.size()<5:\n",
    "            t1 = random.sample(range(1, self.t),1)[0]\n",
    "            time.sleep(t1)  # 随机时长\n",
    "            queue.dequeue()  # 打印\n",
    "            print(f'任务{Tasknum}已经完成，耗时{t1}秒')\n",
    "            timelist.append(t1)\n",
    "        else:\n",
    "            print('任务列表已满')\n",
    "\n",
    "\n",
    "\n",
    "    def createTask(self,Tasknum):\n",
    "        queue.enqueue(Tasknum)\n",
    "\n",
    "\n",
    "pm = PrintMachine(10)\n",
    "Tasknum = 20\n",
    "while Tasknum:\n",
    "    time.sleep(1)\n",
    "    pm.createTask(Tasknum)\n",
    "    pm.giveTask(Tasknum)\n",
    "\n",
    "    Tasknum -=1\n",
    "\n",
    "print(timelist)\n"
   ]
  },
  {
   "cell_type": "markdown",
   "metadata": {},
   "source": [
    "# 双端队列\n",
    "\n",
    "双端队列是与队列类似的有序集合。它有一前、一后两端，元素在其中保持自己的位置。与 队列不同的是，双端队列对在哪一端添加和移除元素没有任何限制。新元素既可以被添加到前端， 也可以被添加到后端。同理，已有的元素也能从任意一端移除。某种意义上，双端队列是栈和队 列的结合。"
   ]
  },
  {
   "cell_type": "markdown",
   "metadata": {},
   "source": [
    "运用双端队列可以解决一个非常有趣的经典问题:回文问题。回文是指从前往后读和从后往 前读都一样的字符串，例如 radar、toot，以及 madam。我们将构建一个程序，它接受一个字符串 并且检测其是否为回文。"
   ]
  },
  {
   "cell_type": "code",
   "execution_count": 3,
   "metadata": {},
   "outputs": [
    {
     "name": "stdout",
     "output_type": "stream",
     "text": [
      "False\n"
     ]
    }
   ],
   "source": [
    "from pythonds.basic import Deque\n",
    "\n",
    "def palchecker(string):\n",
    "\n",
    "    deque = Deque()\n",
    "    for i in string:\n",
    "        deque.addFront(i)\n",
    "\n",
    "    flag = True\n",
    "    while deque.size()>1:\n",
    "        first = deque.removeFront()\n",
    "        last = deque.removeRear()\n",
    "        if first == last:\n",
    "            flag = True\n",
    "        else:\n",
    "            flag = False\n",
    "    \n",
    "    return flag\n",
    "\n",
    "\n",
    "s = 'radar'\n",
    "print(palchecker(s))"
   ]
  },
  {
   "cell_type": "markdown",
   "metadata": {},
   "source": [
    "# 列表\n",
    "\n",
    "列表是元素的集合，其中每一个元素都有一个相对于其他元素的位置。更具体地说，这种 列表称为无序列表。可以认为列表有第一个元素、第二个元素、第三个元素，等等;也可以称第 一个元素为列表的起点，称最后一个元素为列表的终点。为简单起见，我们假设列表中没有重复 元素。"
   ]
  },
  {
   "cell_type": "markdown",
   "metadata": {},
   "source": [
    "### Node 类\n",
    "\n",
    "节点(node)是构建链表的基本数据结构。每一个节点对象都必须持有至少两份信息。首先， 节点必须包含列表元素，我们称之为节点的数据变量。其次，节点必须保存指向下一个节点的引用。 代码 Node 类的 Python 实现。\n",
    "\n",
    "\n",
    "特殊的 Python 引用值 None 在 Node 类以及之后的链表中起到了重要的作用。指向 None 的 引用代表着后面没有元素。注意，Node 的构造方法将 next 的初始值设为 None。由于这有时被 称为“将节点接地”，因此我们使用接地符号来代表指向 None 的引用。**将 None 作为 next 的初 始值是不错的做法。**"
   ]
  },
  {
   "cell_type": "code",
   "execution_count": 4,
   "metadata": {},
   "outputs": [],
   "source": [
    "class Node:\n",
    "       def __init__(self, initdata):\n",
    "           self.data = initdata\n",
    "           self.next = None\n",
    "\n",
    "       def getData(self):\n",
    "           return self.data\n",
    "\n",
    "       def getNext(self):\n",
    "           return self.next\n",
    " \n",
    "       def setData(self, newdata):\n",
    "            self.data = newdata\n",
    "\n",
    "       def setNext(self, newnext):  \n",
    "            self.next = newnext"
   ]
  },
  {
   "cell_type": "markdown",
   "metadata": {},
   "source": [
    "### UnorderedList 类\n",
    "\n",
    "如前所述，无序列表(unordered list)是基于节点集合来构建的，每一个节点都通过显式的\n",
    "引用指向下一个节点。只要知道第一个节点的位置(第一个节点包含第一个元素)，其后的每一 个元素都能通过下一个引用找到。因此，UnorderedList 类必须包含指向第一个节点的引用。 代码展示了 UnorderedList 类的构造方法。注意，每一个列表对象都保存了指向列 表头部的引用。\n",
    "\n",
    "最开始构建列表时，其中没有元素。赋值语句 mylist = UnorderedList(),与在 Node 类中一样，特殊引用值 None 用于表明列表的头部没有指向任何节 点。"
   ]
  },
  {
   "cell_type": "code",
   "execution_count": 5,
   "metadata": {},
   "outputs": [],
   "source": [
    "class UnorderedList:\n",
    "    def __init__(self):\n",
    "        self.head = None"
   ]
  },
  {
   "cell_type": "code",
   "execution_count": 6,
   "metadata": {},
   "outputs": [],
   "source": [
    "# isEmpty 方法检查列表的头部是否为指向 None 的引用。由于新的链表是空的，因此构造方法 必须和检查是否为空的方法保持一致。\n",
    "# 这体现了使用 None 表示链表末尾的好处。isEmpty 方法检查列表的头部是否为指向 None 的引用。\n",
    "# 由于新的链表是空的，因此构造方法 必须和检查是否为空的方法保持一致。这体现了使用 None 表示链表末尾的好处。\n",
    "\n",
    "def isEmpty(self):\n",
    "    return self.head == None"
   ]
  },
  {
   "cell_type": "code",
   "execution_count": null,
   "metadata": {},
   "outputs": [],
   "source": [
    "# add方法\n",
    "# 第一步，将新节点的 next ,引用指向当前列表中的第一个节点。这样一来，原来的列表就和新节点正确地链接在了一起。\n",
    "\n",
    "def add(self, item):\n",
    "    temp = Node(item)\n",
    "    temp.setNext(self.head) \n",
    "    self.head = temp"
   ]
  },
  {
   "cell_type": "code",
   "execution_count": 10,
   "metadata": {},
   "outputs": [],
   "source": [
    "# 为了实现 length 方法，需要遍历链表并且记录访问过多少个节点\n",
    "\n",
    "def length(self):\n",
    "    current = self.head\n",
    "    count = 0 # current 就是外部引用，初始化为列表的头节点。在计算开始时，由于没有访问到任何节点，因此 count 被初始化为 0。\n",
    "    while current != None: # 遍历过程。只要 current 引用没有指向列表的结尾(None)，就将它指向下一个节点\n",
    "        count = count + 1 # 每当 current 指向一个新节点时，将 count 加 1。最终，循环完成后返回 count。\n",
    "        current = current.getNext()\n",
    "    return count"
   ]
  },
  {
   "cell_type": "code",
   "execution_count": 11,
   "metadata": {},
   "outputs": [],
   "source": [
    "# search方法 与在 length 方法中相似，遍历从列表的头部。我们使用布尔型变量 found 来标记是否找到所需的元素。\n",
    "\n",
    "def search(self, item):\n",
    "    current = self.head\n",
    "    found = False\n",
    "    while current != None and not found:\n",
    "        if current.getData() == item:\n",
    "            found = True\n",
    "        else:\n",
    "            current = current.getNext()\n",
    "    return found    "
   ]
  },
  {
   "cell_type": "code",
   "execution_count": 9,
   "metadata": {},
   "outputs": [],
   "source": [
    "# remove 方法在逻辑上需要分两步。第 1 步，遍历列表并查找要移除的元素。一旦找到该元 素(假设元素在列表中)，就必须将其移除。\n",
    "# 第 1 步与 search 非常相似。从一个指向列表头节 点的外部引用开始，遍历整个列表，\n",
    "# 直到遇到需要移除的元素。由于假设目标元素已经在列表中， 因此我们知道循环会在 current 抵达 None 之前结束。\n",
    "# 这意味着可以在判断条件中使用布尔型 变量 found。\n",
    "\n",
    "def remove(self, item):\n",
    "    current = self.head\n",
    "    previous = None # 用previous来保存找到目标节点的上一个节点\n",
    "    found = False\n",
    "    while not found:\n",
    "        if current.getData() == item:\n",
    "            found = True\n",
    "        else:\n",
    "            previous = current   # 如果没有找到，那就节点赋值给previous并且找下一个节点\n",
    "            current = current.getNext()\n",
    "    if previous == None:   # 特殊情况，第一个就是需要移除的节点，那么previous==None，并且需要修改链表的头节点\n",
    "        self.head = current.getNext()\n",
    "    else:\n",
    "        previous.setNext(current.getNext())  # 找到后将前一个节点连接目标节点的后一个节点，做到跳过此节点\n",
    "\n",
    "\n",
    "\n"
   ]
  },
  {
   "cell_type": "markdown",
   "metadata": {},
   "source": [
    "## 有序列表抽象数据类型\n",
    "\n",
    "在有序列表中，元素的相对位置取决于它们的基本特征。它们通常以升序或者降序排列，并 且我们假设元素之间能进行有意义的比较。有序列表的众多操作与无序列表的相同。"
   ]
  },
  {
   "cell_type": "code",
   "execution_count": 7,
   "metadata": {},
   "outputs": [],
   "source": [
    "# 有序列表搜索，由于有序列表他是有规律的，所以在搜索时如果发现得到的值已经大于目标值后可以停止\n",
    "\n",
    "def search(self, item):\n",
    "    current = self.head\n",
    "    found = False\n",
    "    stop = False\n",
    "    while current != None and not found and not stop:\n",
    "        if current.getData() == item:\n",
    "            found = True\n",
    "        else:\n",
    "            if current.getData() > item:\n",
    "                stop = True\n",
    "            else:\n",
    "                current = current.getNext()\n",
    "    \n",
    "    return found"
   ]
  },
  {
   "cell_type": "code",
   "execution_count": 8,
   "metadata": {},
   "outputs": [],
   "source": [
    "# 需要修改最多的是 add 方法。对于无序列表，add 方法可以简单地将一个节点放在列表的 头部，这是最简便的访问点。\n",
    "# 不巧，这种做法不适合有序列表。我们需要在已有链表中为新节点 找到正确的插入位置。\n",
    "\n",
    "def add(self, item):\n",
    "    current = self.head\n",
    "    previous = None\n",
    "    found = False\n",
    "    temp = Node(item)\n",
    "    while  not found:\n",
    "        if current.getData()>item:\n",
    "            found = True\n",
    "        else:\n",
    "            previous = current\n",
    "            current = current.getNext()\n",
    "\n",
    "    if previous == None:\n",
    "        temp.setNext(self.head) \n",
    "        self.head = temp\n",
    "        \n",
    "    else:\n",
    "        temp.setNext(current) \n",
    "        previous.setNext(temp)\n",
    "\n"
   ]
  }
 ],
 "metadata": {
  "kernelspec": {
   "display_name": "Python 3.8.6 64-bit ('tfpy39')",
   "language": "python",
   "name": "python3"
  },
  "language_info": {
   "codemirror_mode": {
    "name": "ipython",
    "version": 3
   },
   "file_extension": ".py",
   "mimetype": "text/x-python",
   "name": "python",
   "nbconvert_exporter": "python",
   "pygments_lexer": "ipython3",
   "version": "3.8.6"
  },
  "orig_nbformat": 4,
  "vscode": {
   "interpreter": {
    "hash": "7c98f917436e91ad7f0c3d4f5d9b3df817d2512acd5c63c803caddd09106776b"
   }
  }
 },
 "nbformat": 4,
 "nbformat_minor": 2
}
