{
 "cells": [
  {
   "cell_type": "code",
   "execution_count": 5,
   "metadata": {},
   "outputs": [],
   "source": [
    "# 二分搜索\n",
    "# 在顺序搜索时，如果第一 个元素不是目标元素，最多还要比较 n–1 次。\n",
    "# 但二分搜索不是从第一个元素开始搜索列表，而是 从中间的元素着手。\n",
    "# 如果这个元素就是目标元素，那就立即停止搜索;如果不是，则可以利用列 表有序的特性，排除一半的元素。\n",
    "# 如果目标元素比中间的元素大，就可以直接排除列表的左半部 分和中间的元素。\n",
    "# 这是因为，如果列表包含目标元素，它必定位于右半部分。\n",
    "\n",
    "def binarysearch(num, num_list):\n",
    "    flag = False\n",
    "    middle = len(num_list) // 2\n",
    "\n",
    "    while middle != 0:\n",
    "        if num_list[middle] > num:\n",
    "            num_list = num_list[:middle]\n",
    "        elif num_list[middle] < num:\n",
    "            num_list = num_list[middle:]\n",
    "        else:\n",
    "            flag = True\n",
    "            break\n",
    "        middle = len(num_list) // 2\n",
    "    return flag\n",
    "\n",
    "\n",
    "binarysearch(9, [1, 5, 7, 8, 10,15,22, 35, 44, 60,61])"
   ]
  },
  {
   "cell_type": "markdown",
   "metadata": {},
   "source": [
    "## 散列\n",
    "散列表是元素集合，其中的元素以一种便于查找的方式存储。散列表中的每个位置通常被称 为槽，其中可以存储一个元素。槽用一个从 0 开始的整数标记，例如 0 号槽、1 号槽、2 号槽， 等等。初始情形下，散列表中没有元素，每个槽都是空的。可以用列表来实现散列表，并将每个 元素都初始化为 Python 中的特殊值 None。"
   ]
  },
  {
   "cell_type": "markdown",
   "metadata": {},
   "source": [
    "假设有一个由整数元素 54、26、93、17、77 和 31 构成的集 合。首先来看第一个散列函数，它有时被称作“取余函数”，即用一个元素除以表的大小，并将 得到的余数作为散列值(h(item) = item%11)。取余函 数是一个很常见的散列函数，这是因为结果必须在槽编号范围内。\n",
    "54的散列值就是10 26就是4 以此类推。"
   ]
  },
  {
   "cell_type": "markdown",
   "metadata": {},
   "source": [
    "搜索目标元素时，仅需使用散列函数计算出该元素的槽编号，并查看对应的槽中是否有值。 因为计算散列值并找到相应位置所需的时间是固定的，所以搜索操作的时间复杂度是 O(1) 。如果 一切正常，那么我们就已经找到了常数阶的搜索算法。\n",
    "但如果有几个值都是一个散列值，这种情况被称作冲突，也叫“碰撞”，我们的目标是创建这样一个散列函数:冲突数最少，计算方便，元素均匀分布于散列表中。\n",
    "有多种常见的方法来扩展取余函数，下面介绍其中的几种。"
   ]
  },
  {
   "cell_type": "markdown",
   "metadata": {},
   "source": [
    "折叠法：假设元素是电话号码 436-555-4601，以 2 位为一组进行切分，得到 43、65、55、46 和 01。将这些数字相加后，得到 210。假设散列表有 11 个槽，接着需要用 210 除以 11，并保留余数 1。 所以，电话号码 436-555-4601 被映射到散列表中的 1 号槽\n",
    "\n",
    "平方取中法:先将元素取平方，然后提取中间几位数。如 果元素是 44，先计算 442=1936，然后提取中间两位 93，继续进行取余的步骤，得到 5(93%11)。"
   ]
  },
  {
   "cell_type": "markdown",
   "metadata": {},
   "source": [
    "### 处理冲突\n",
    "\n",
    "p154"
   ]
  },
  {
   "cell_type": "code",
   "execution_count": null,
   "metadata": {},
   "outputs": [],
   "source": []
  }
 ],
 "metadata": {
  "kernelspec": {
   "display_name": "Python 3.8.6 64-bit ('tfpy39')",
   "language": "python",
   "name": "python3"
  },
  "language_info": {
   "codemirror_mode": {
    "name": "ipython",
    "version": 3
   },
   "file_extension": ".py",
   "mimetype": "text/x-python",
   "name": "python",
   "nbconvert_exporter": "python",
   "pygments_lexer": "ipython3",
   "version": "3.8.6"
  },
  "orig_nbformat": 4,
  "vscode": {
   "interpreter": {
    "hash": "7c98f917436e91ad7f0c3d4f5d9b3df817d2512acd5c63c803caddd09106776b"
   }
  }
 },
 "nbformat": 4,
 "nbformat_minor": 2
}
