{
 "cells": [
  {
   "cell_type": "markdown",
   "source": [
    "# 深度优先搜索"
   ],
   "metadata": {
    "collapsed": false
   }
  },
  {
   "cell_type": "markdown",
   "source": [
    "## 树的遍历\n",
    "通过树的遍历从而引入图的遍历，首先是通过dfs来对树进行遍历:\n",
    "一棵二叉树，它的左子树和右子树也是一棵二叉树。那么我们的 DFS 遍历只需要递归调用左子树和右子树即可。\n"
   ],
   "metadata": {
    "collapsed": false
   }
  },
  {
   "cell_type": "code",
   "execution_count": 4,
   "metadata": {
    "collapsed": true,
    "ExecuteTime": {
     "start_time": "2023-04-01T23:31:30.777042Z",
     "end_time": "2023-04-01T23:31:30.786659Z"
    }
   },
   "outputs": [],
   "source": [
    "class TreeNode:\n",
    "    def __init__(self, val=0, left=None, right=None):\n",
    "        self.val = val\n",
    "        self.left = left\n",
    "        self.right = right\n",
    "\n",
    "def dfs(node: TreeNode):\n",
    "    if not node:\n",
    "        return\n",
    "    # 先遍历左子树\n",
    "    dfs(node.left)\n",
    "    # 处理当前节点\n",
    "    print(node.val,end=',')\n",
    "    # 再遍历右子树\n",
    "    dfs(node.right)"
   ]
  },
  {
   "cell_type": "code",
   "execution_count": 5,
   "outputs": [
    {
     "name": "stdout",
     "output_type": "stream",
     "text": [
      "4,2,5,1,3,"
     ]
    }
   ],
   "source": [
    "root = TreeNode(1)\n",
    "root.left = TreeNode(2)\n",
    "root.right = TreeNode(3)\n",
    "root.left.left = TreeNode(4)\n",
    "root.left.right = TreeNode(5)\n",
    "\n",
    "dfs(root)"
   ],
   "metadata": {
    "collapsed": false,
    "ExecuteTime": {
     "start_time": "2023-04-01T23:31:31.121140Z",
     "end_time": "2023-04-01T23:31:31.130710Z"
    }
   }
  },
  {
   "cell_type": "markdown",
   "source": [
    "对于网格上的 DFS，我们完全可以参考二叉树的 DFS，写出网格 DFS 的两个要素：\n",
    "\n",
    "首先，网格结构中的格子有多少相邻结点？答案是上下左右四个。对于格子 (r, c) 来说（r 和 c 分别代表行坐标和列坐标），四个相邻的格子分别是 (r-1, c)、(r+1, c)、(r, c-1)、(r, c+1)。换句话说，网格结构是「四叉」的。\n",
    "网格 DFS 中的 base case 是网格中不需要继续遍历、grid[r][c] 会出现数组下标越界异常的格子，也就是那些超出网格范围的格子。\n"
   ],
   "metadata": {
    "collapsed": false
   }
  },
  {
   "cell_type": "code",
   "execution_count": null,
   "outputs": [],
   "source": [
    "def dfs(grid, r, c):\n",
    "    if not inArea(grid, r, c):\n",
    "        return\n",
    "    dfs(grid, r - 1, c)\n",
    "    dfs(grid, r + 1, c)\n",
    "    dfs(grid, r, c - 1)\n",
    "    dfs(grid, r, c + 1)\n",
    "\n",
    "def inArea(grid, r, c):\n",
    "    return 0 <= r & r < grid.length & 0 <= c & c < grid[0].length"
   ],
   "metadata": {
    "collapsed": false
   }
  },
  {
   "cell_type": "markdown",
   "source": [
    "通过遍历过得格子改值来防止重复遍历"
   ],
   "metadata": {
    "collapsed": false
   }
  },
  {
   "cell_type": "code",
   "execution_count": null,
   "outputs": [],
   "source": [
    "def dfs(grid, r, c):\n",
    "    if not inArea(grid, r, c):\n",
    "        return\n",
    "    if grid[r][c] != 1:\n",
    "        return\n",
    "\n",
    "    grid[r][c] = 2\n",
    "    dfs(grid, r - 1, c)\n",
    "    dfs(grid, r + 1, c)\n",
    "    dfs(grid, r, c - 1)\n",
    "    dfs(grid, r, c + 1)\n",
    "\n",
    "\n",
    "def inArea(grid, r, c):\n",
    "    return 0 <= r & r < grid.length & 0 <= c & c < grid[0].length"
   ],
   "metadata": {
    "collapsed": false
   }
  },
  {
   "cell_type": "markdown",
   "source": [
    "## 例子"
   ],
   "metadata": {
    "collapsed": false
   }
  },
  {
   "cell_type": "code",
   "execution_count": null,
   "outputs": [],
   "source": [],
   "metadata": {
    "collapsed": false
   }
  }
 ],
 "metadata": {
  "kernelspec": {
   "display_name": "Python 3",
   "language": "python",
   "name": "python3"
  },
  "language_info": {
   "codemirror_mode": {
    "name": "ipython",
    "version": 2
   },
   "file_extension": ".py",
   "mimetype": "text/x-python",
   "name": "python",
   "nbconvert_exporter": "python",
   "pygments_lexer": "ipython2",
   "version": "2.7.6"
  }
 },
 "nbformat": 4,
 "nbformat_minor": 0
}
