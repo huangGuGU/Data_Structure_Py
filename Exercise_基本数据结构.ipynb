{
 "cells": [
  {
   "cell_type": "code",
   "execution_count": 3,
   "metadata": {},
   "outputs": [
    {
     "name": "stdout",
     "output_type": "stream",
     "text": [
      "True\n"
     ]
    }
   ],
   "source": [
    "#扩展代码清单 3-15 中的回文检测器，使其可以处理包含空格的回文。如果忽略其中的 空格，那么 I PREFER PI 就是回文。\n",
    "\n",
    "from pythonds.basic import Deque\n",
    "\n",
    "def palchecker(string):\n",
    "\n",
    "    deque = Deque()\n",
    "    for i in string:\n",
    "        deque.addFront(i)\n",
    "\n",
    "    flag = True\n",
    "    while deque.size()>1:\n",
    "\n",
    "        first = deque.removeFront()\n",
    "        last = deque.removeRear()\n",
    "\n",
    "        while first ==' ':\n",
    "            first = deque.removeFront()\n",
    "        \n",
    "        while last ==' ':\n",
    "            last = deque.removeRear()\n",
    "        if first == last:\n",
    "            flag = True\n",
    "        else:\n",
    "            flag = False\n",
    "    \n",
    "    return flag\n",
    "\n",
    "\n",
    "s = 'I PREFER PI'\n",
    "print(palchecker(s))"
   ]
  },
  {
   "cell_type": "code",
   "execution_count": null,
   "metadata": {},
   "outputs": [],
   "source": []
  }
 ],
 "metadata": {
  "kernelspec": {
   "display_name": "Python 3.8.6 64-bit ('tfpy39')",
   "language": "python",
   "name": "python3"
  },
  "language_info": {
   "codemirror_mode": {
    "name": "ipython",
    "version": 3
   },
   "file_extension": ".py",
   "mimetype": "text/x-python",
   "name": "python",
   "nbconvert_exporter": "python",
   "pygments_lexer": "ipython3",
   "version": "3.8.6"
  },
  "orig_nbformat": 4,
  "vscode": {
   "interpreter": {
    "hash": "7c98f917436e91ad7f0c3d4f5d9b3df817d2512acd5c63c803caddd09106776b"
   }
  }
 },
 "nbformat": 4,
 "nbformat_minor": 2
}
