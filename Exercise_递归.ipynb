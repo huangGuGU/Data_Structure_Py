{
 "cells": [
  {
   "cell_type": "code",
   "execution_count": 18,
   "metadata": {},
   "outputs": [
    {
     "data": {
      "text/plain": [
       "40320"
      ]
     },
     "execution_count": 18,
     "metadata": {},
     "output_type": "execute_result"
    }
   ],
   "source": [
    "# 写一个递归函数来计算数的阶乘。\n",
    "\n",
    "def func(n):\n",
    "    if n == 1:\n",
    "        return 1\n",
    "    else:\n",
    "        return n * func(n - 1)\n",
    "\n",
    "func(8)"
   ]
  },
  {
   "cell_type": "code",
   "execution_count": 5,
   "metadata": {},
   "outputs": [
    {
     "data": {
      "text/plain": [
       "[5, 4, 3, 2, 1]"
      ]
     },
     "execution_count": 5,
     "metadata": {},
     "output_type": "execute_result"
    }
   ],
   "source": [
    "# 写一个递归函数来反转列表。\n",
    "new_list = []\n",
    "\n",
    "def func(list):\n",
    "    if len(list) == 1:\n",
    "        new_list.append(list[0])\n",
    "        return new_list\n",
    "    else:\n",
    "        a = list.pop()\n",
    "        new_list.append(a)\n",
    "        return func(list)\n",
    "\n",
    "func([1, 2, 3, 4, 5])"
   ]
  },
  {
   "cell_type": "code",
   "execution_count": 14,
   "metadata": {},
   "outputs": [
    {
     "name": "stdout",
     "output_type": "stream",
     "text": [
      "[1, 1, 2, 3, 5, 8, 13, 21, 34, 55]\n",
      "[1, 1, 2, 3, 5, 8, 13, 21, 34, 55]\n"
     ]
    }
   ],
   "source": [
    "# 写一个递归函数来计算斐波那契数列，并对比递归函数与循环函数的性能。\n",
    "\n",
    "'''循环'''\n",
    "def func1():\n",
    "    list = [1,1]\n",
    "    n = 0\n",
    "    while len(list)<10:\n",
    "        list.append(list[n]+list[n+1])\n",
    "        n+=1\n",
    "    return list\n",
    "\n",
    "\n",
    "\n",
    "'''迭代'''\n",
    "def func2(list):\n",
    "\n",
    "    if len(list) ==10 :\n",
    "        return list\n",
    "    else:\n",
    "        list.append(list[-1]+list[-2])\n",
    "        return func2(list)\n",
    "\n",
    "\n",
    "print(func1())\n",
    "print(func2(list=[1,1]))"
   ]
  },
  {
   "cell_type": "code",
   "execution_count": 20,
   "metadata": {},
   "outputs": [],
   "source": [
    "# 写一个程序来解决这样一个问题:3 只羚羊和 3 只狮子准备乘船过河，河边有一艘能容 纳 2 只动物的小船。\n",
    "# 但是，如果两侧河岸上的狮子数量大于羚羊数量，羚羊就会被吃掉。 找到运送办法，使得所有动物都能安全渡河。\n",
    "\n",
    "\n",
    "def func(l,s,L,S):\n",
    "    if l==1 and s==1:\n",
    "        return \n",
    "\n",
    "    else:\n",
    "        for j in [c for c in coinValueList if c <= cent]:\n",
    "        for i in [c for c in ]\n",
    "\n",
    "\n",
    "\n",
    "\n",
    "\n",
    "def func(3,3,0,0)\n"
   ]
  },
  {
   "cell_type": "code",
   "execution_count": 7,
   "metadata": {},
   "outputs": [
    {
     "name": "stdout",
     "output_type": "stream",
     "text": [
      "[1]\n",
      "[1, 1]\n",
      "[1, 2, 1]\n",
      "[1, 3, 3, 1]\n",
      "[1, 4, 6, 4, 1]\n",
      "[1, 5, 10, 10, 5, 1]\n"
     ]
    },
    {
     "data": {
      "text/plain": [
       "[1, 5, 10, 10, 5, 1]"
      ]
     },
     "execution_count": 7,
     "metadata": {},
     "output_type": "execute_result"
    }
   ],
   "source": [
    "# 写一个输出帕斯卡三角形的程序。\n",
    "#           1\n",
    "#         1     1\n",
    "#      1     2      1\n",
    "#   1    3      3       1\n",
    "\n",
    "\n",
    "def func(l):\n",
    "    print(l)\n",
    "    \n",
    "    if len(l) == 6:\n",
    "        return l\n",
    "    else:\n",
    "        new_list = [1]\n",
    "        for i in range(1,len(l)):\n",
    "            new_list.append(l[i-1]+l[i])\n",
    "        new_list.append(1)\n",
    "        return func(new_list)\n",
    "\n",
    "\n",
    "func([1])\n",
    "\n"
   ]
  },
  {
   "cell_type": "code",
   "execution_count": null,
   "metadata": {},
   "outputs": [],
   "source": [
    "# 请尝试解决字符串编辑距离问题，它在很多研究领域中非常有用。\n",
    "# 假设要把单词 algorithm 转换成 alligator。\n",
    "# 对于每一个字母，可以用 5 个单位的代价将其从一个单词复 制到另一个，也可以用 20 个单位的代价将其删除或插入。\n",
    "# 拼写检查程序利用将一个单 词转换为另一个的总代价来提供拼写建议。\n",
    "# 请设计一个动态规划算法，给出任意两个单词之间的最小编辑距离。\n",
    "\n",
    "\n",
    "\n",
    "\n",
    "\n",
    "\n",
    "\n",
    "\n",
    "\n",
    "\n",
    "\n",
    "\n",
    "\n",
    "\n",
    "\n",
    "\n",
    "\n",
    "\n"
   ]
  }
 ],
 "metadata": {
  "kernelspec": {
   "display_name": "Python 3.8.6 64-bit ('tfpy39')",
   "language": "python",
   "name": "python3"
  },
  "language_info": {
   "codemirror_mode": {
    "name": "ipython",
    "version": 3
   },
   "file_extension": ".py",
   "mimetype": "text/x-python",
   "name": "python",
   "nbconvert_exporter": "python",
   "pygments_lexer": "ipython3",
   "version": "3.8.6"
  },
  "orig_nbformat": 4,
  "vscode": {
   "interpreter": {
    "hash": "7c98f917436e91ad7f0c3d4f5d9b3df817d2512acd5c63c803caddd09106776b"
   }
  }
 },
 "nbformat": 4,
 "nbformat_minor": 2
}
