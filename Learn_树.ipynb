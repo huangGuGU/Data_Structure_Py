{
 "cells": [
  {
   "cell_type": "markdown",
   "metadata": {},
   "source": [
    "# 树的概念\n",
    "节点：\n",
    "节点是树的基础部分。它可以有自己的名字，我们称作“键”。节点也可以带有附加信息， 我们称作“有效载荷”。有效载荷信息对于很多树算法来说不是重点，但它常常在使用树的应用 中很重要。\n",
    "\n",
    "\n",
    "边：\n",
    "边是树的另一个基础部分。两个节点通过一条边相连，表示它们之间存在关系。除了根节点 以外，其他每个节点都仅有一条入边，出边则可能有多条。\n",
    "\n",
    "\n",
    "根节点：\n",
    "根节点是树中唯一没有入边的节点。在图 6-2 中，/就是根节点。\n",
    "\n",
    "\n",
    "路径：\n",
    " 路径是由边连接的有序节点列表。比如，哺乳纲→食肉目→猫科→猫属→家猫就是一条路径。\n",
    " \n",
    "\n",
    "子节点：\n",
    "一个节点通过出边与子节点相连。在图 6-2 中，log/、spool/和 yp/都是 var/的子节点。\n",
    "\n",
    "\n",
    "父节点\n",
    "一个节点是其所有子节点的父节点。在图 6-2 中，var/是 log/、spool/和 yp/的父节点。\n",
    "\n",
    "\n",
    "兄弟节点：\n",
    "具有同一父节点的节点互称为兄弟节点。文件系统树中的 etc/和 usr/就是兄弟节点。\n",
    "\n",
    "\n",
    "子树：\n",
    "一个父节点及其所有后代的节点和边构成一棵子树。\n",
    "\n",
    "\n",
    "叶子节点：\n",
    "叶子节点没有子节点。比如，图 6-1 中的人和黑猩猩都是叶子节点。\n",
    "\n",
    "\n",
    "层数：\n",
    "节点 n 的层数是从根节点到 n 的唯一路径长度。在图 6-1 中，猫属的层数是 5。由定义可知， 根节点的层数是 0。\n",
    "\n",
    "\n",
    "高度：\n",
    "树的高度是其中节点层数的最大值。图 6-2 中的树高度为 2。 定义基本术语后，就可以进一步给出树的正式定义。实际上，本书将提供两种定义，其中一\n",
    "种涉及节点和边，另一种涉及递归。你在后面会看到，递归定义很有用。"
   ]
  },
  {
   "cell_type": "code",
   "execution_count": 1,
   "metadata": {},
   "outputs": [],
   "source": [
    "class BinaryTree:\n",
    "    def __init__(self, rootObj):\n",
    "        self.key = rootObj\n",
    "        self.leftChild = None\n",
    "        self.rightChild = None\n",
    "    \n",
    "# 插入左子节点\n",
    "# 在插入左子树时，必须考虑两种情况。第一种情况是原本没有左子节点。此时，只需往树中 添加一个节点即可。\n",
    "# 第二种情况是已经存在左子节点。此时，插入一个节点，并将已有的左子节 点降一层。\n",
    "    def insertLeft(self, newNode):\n",
    "        if self.leftChild == None:\n",
    "            self.leftChild = BinaryTree(newNode)\n",
    "        else:\n",
    "            t = BinaryTree(newNode)\n",
    "            t.leftChild = self.leftChild\n",
    "            self.leftChild = t\n",
    "            \n",
    "# 插入右子节点\n",
    "    def insertRight(self, newNode):\n",
    "        if self.rightChild == None:\n",
    "            self.rightChild = BinaryTree(newNode)\n",
    "        else:\n",
    "            t = BinaryTree(newNode)\n",
    "            t.right = self.rightChild\n",
    "            self.rightChild = t\n",
    "\n",
    "# 二叉树的访问函数\n",
    "    def getRightChild(self):\n",
    "        return self.rightChild\n",
    "\n",
    "    def getLeftChild(self):\n",
    "        return self.leftChild\n",
    "\n",
    "    def setRootVal(self, obj):\n",
    "        self.key = obj\n",
    "\n",
    "    def getRootVal(self):\n",
    "        return self.key"
   ]
  },
  {
   "cell_type": "code",
   "execution_count": 2,
   "metadata": {},
   "outputs": [
    {
     "data": {
      "text/plain": [
       "'a'"
      ]
     },
     "execution_count": 2,
     "metadata": {},
     "output_type": "execute_result"
    }
   ],
   "source": [
    "# 调用二叉树 设立一个根节点\n",
    "r = BinaryTree('a')\n",
    "r.getRootVal()"
   ]
  },
  {
   "cell_type": "code",
   "execution_count": 8,
   "metadata": {},
   "outputs": [
    {
     "name": "stdout",
     "output_type": "stream",
     "text": [
      "None\n"
     ]
    }
   ],
   "source": [
    "# 现在是没有左子树的\n",
    "print(r.getLeftChild())"
   ]
  },
  {
   "cell_type": "code",
   "execution_count": 3,
   "metadata": {},
   "outputs": [
    {
     "name": "stdout",
     "output_type": "stream",
     "text": [
      "b\n"
     ]
    }
   ],
   "source": [
    "# 插入左子树后再获取对应的值\n",
    "r.insertLeft('b')\n",
    "print(r.getLeftChild().getRootVal())"
   ]
  },
  {
   "cell_type": "code",
   "execution_count": 4,
   "metadata": {},
   "outputs": [
    {
     "name": "stdout",
     "output_type": "stream",
     "text": [
      "c\n"
     ]
    }
   ],
   "source": [
    "r.insertRight('c')\n",
    "print(r.getRightChild().getRootVal())"
   ]
  },
  {
   "cell_type": "code",
   "execution_count": 12,
   "metadata": {},
   "outputs": [
    {
     "name": "stdout",
     "output_type": "stream",
     "text": [
      "hello\n"
     ]
    }
   ],
   "source": [
    "r.getRightChild().setRootVal('hello')\n",
    "print(r.getRightChild().getRootVal())"
   ]
  },
  {
   "cell_type": "code",
   "execution_count": 7,
   "metadata": {},
   "outputs": [
    {
     "name": "stdout",
     "output_type": "stream",
     "text": [
      "a\n",
      "b\n",
      "c\n"
     ]
    }
   ],
   "source": [
    "# 前序遍历\n",
    "def preorder(tree):\n",
    "    if tree:\n",
    "        print(tree.getRootVal())\n",
    "        preorder(tree.getLeftChild())\n",
    "        preorder(tree.getRightChild())\n",
    "preorder(r)"
   ]
  },
  {
   "cell_type": "code",
   "execution_count": 10,
   "metadata": {},
   "outputs": [
    {
     "name": "stdout",
     "output_type": "stream",
     "text": [
      "c\n",
      "b\n",
      "a\n"
     ]
    }
   ],
   "source": [
    "# 后序遍历\n",
    "def postorder(tree):\n",
    "    if tree:\n",
    "        preorder(tree.getLeftChild())\n",
    "        preorder(tree.getRightChild())\n",
    "        print(tree.getRootVal())\n",
    "preorder(r)"
   ]
  },
  {
   "cell_type": "markdown",
   "metadata": {},
   "source": [
    "# 二叉树的应用"
   ]
  },
  {
   "cell_type": "markdown",
   "metadata": {},
   "source": [
    "## 解析树\n",
    "使用解析树实现计算，规则如下：\n",
    "\n",
    "(1) 如果当前标记是(，就为当前节点添加一个左子节点，并下沉至该子节点;\n",
    "\n",
    "(2) 如果当前标记在列表['+', '-', '/', '*']中，就将当前节点的值设为当前标记对应 的运算符;为当前节点添加一个右子节点，并下沉至该子节点;\n",
    "\n",
    "(3) 如果当前标记是数字，就将当前节点的值设为这个数并返回至父节点;\n",
    "\n",
    "(4) 如果当前标记是)，就跳到当前节点的父节点。"
   ]
  },
  {
   "cell_type": "code",
   "execution_count": 25,
   "metadata": {},
   "outputs": [],
   "source": [
    "# 计算(3 + (4 * 5))\n",
    "# (a) 创建一棵空树。\n",
    "# (b) 读入第一个标记(。根据规则 1，为根节点添加一个左子节点。\n",
    "# (c) 读入下一个标记 3。根据规则 3，将当前节点的值设为 3，并回到父节点。\n",
    "# (d) 读入下一个标记+。根据规则 2，将当前节点的值设为+，并添加一个右子节点。新节点 成为当前节点。\n",
    "# (e) 读入下一个标记(。根据规则 1，为当前节点添加一个左子节点，并将其作为当前节点。\n",
    "# (f) 读入下一个标记 4。根据规则 3，将当前节点的值设为 4，并回到父节点。\n",
    "# (g) 读入下一个标记*。根据规则 2，将当前节点的值设为*，并添加一个右子节点。新节点 成为当前节点。\n",
    "# (h) 读入下一个标记 5。根据规则 3，将当前节点的值设为 5，并回到父节点。\n",
    "# (i) 读入下一个标记)。根据规则 4，将*的父节点作为当前节点。\n",
    "# (j) 读入下一个标记)。根据规则 4，将+的父节点作为当前节点。因为+没有父节点，所以工作完成。\n",
    "\n",
    "from pythonds.basic import Stack\n",
    "from pythonds.trees import BinaryTree\n",
    "import operator\n",
    "\n",
    "def buildParseTree(fpexp):\n",
    "    fplist = fpexp.split(' ')\n",
    "    pStack = Stack()\n",
    "    eTree = BinaryTree('')\n",
    "    pStack.push(eTree)\n",
    "    currentTree = eTree\n",
    "    for i in fplist:\n",
    "        if i == '(':\n",
    "              currentTree.insertLeft('')\n",
    "              pStack.push(currentTree)\n",
    "              currentTree = currentTree.getLeftChild()\n",
    "        elif i not in '+-*/)':\n",
    "              currentTree.setRootVal(eval(i))\n",
    "              parent = pStack.pop()\n",
    "              currentTree = parent\n",
    "        elif i in '+-*/':\n",
    "              currentTree.setRootVal(i)\n",
    "              currentTree.insertRight('')\n",
    "              pStack.push(currentTree)\n",
    "              currentTree = currentTree.getRightChild()\n",
    "        elif i == ')':\n",
    "              currentTree = pStack.pop()\n",
    "        else:\n",
    "              raise ValueError(\"Unknown Operator: \" + i)\n",
    "    return eTree\n",
    "\n",
    "\n",
    "    \n",
    "def evaluate(parseTree):\n",
    "    opers = {'+':operator.add, '-':operator.sub,\n",
    "             '*':operator.mul, '/':operator.truediv}\n",
    "    leftC = parseTree.getLeftChild()\n",
    "    rightC = parseTree.getRightChild()\n",
    "    if leftC and rightC:\n",
    "        fn = opers[parseTree.getRootVal()]\n",
    "        return fn(evaluate(leftC), evaluate(rightC))\n",
    "    else:\n",
    "        return parseTree.getRootVal()\n",
    "\n",
    "\n",
    "def postordereval(tree):\n",
    "    opers = {'+':operator.add, '-':operator.sub,\n",
    "             '*':operator.mul, '/':operator.truediv}\n",
    "    res1 = None\n",
    "    res2 = None\n",
    "    if tree:\n",
    "            res1 = postordereval(tree.getLeftChild())\n",
    "            res2 = postordereval(tree.getRightChild())\n",
    "            if res1 and res2:\n",
    "                  return opers[tree.getRootVal()](res1, res2)\n",
    "            else: \n",
    "                  return tree.getRootVal()\n",
    "\n",
    "def printexp(tree):\n",
    "      sVal = \"\"\n",
    "      if tree:\n",
    "            if tree.getLeftChild():\n",
    "                  sVal = '(' + printexp(tree.getLeftChild())\n",
    "            else:\n",
    "                  printexp(tree.getLeftChild())                 \n",
    "            sVal = sVal + str(tree.getRootVal())\n",
    "            if tree.getRightChild():\n",
    "                  sVal = sVal + printexp(tree.getRightChild()) + ')'\n",
    "            else:\n",
    "                  sVal + printexp(tree.getRightChild())\n",
    "      return sVal"
   ]
  },
  {
   "cell_type": "code",
   "execution_count": 26,
   "metadata": {},
   "outputs": [
    {
     "data": {
      "text/plain": [
       "'(3+(4*5))'"
      ]
     },
     "execution_count": 26,
     "metadata": {},
     "output_type": "execute_result"
    }
   ],
   "source": [
    "etree  = buildParseTree('( 3 + ( 4 * 5 ) )')\n",
    "postordereval(etree)\n",
    "printexp(etree)"
   ]
  },
  {
   "cell_type": "markdown",
   "metadata": {},
   "source": [
    "# 利用二叉堆实现优先级队列\n"
   ]
  },
  {
   "cell_type": "markdown",
   "metadata": {},
   "source": [
    "## 二叉堆的实现\n",
    "通过创建一棵完全二叉树来维持树的平衡。在完全二叉树中，除了最底层，其他每一层的节点都是满的。在最底层，我们从左往右填充节点。\n",
    "\n",
    "完全二叉树的另一个有趣之处在于，可以用一个列表来表示它，而不需要采用“列表之列表” 或“节点与引用”表示法。由于树是完全的，**因此对于在列表中处于位置 p 的节点来说，它的左子 节点正好处于位置 2p;同理，右子节点处于位置 2p+1**。若要找到树中任意节点的父节点，只需使 用 Python 的整数除法即可。**给定列表中位置 n 处的节点，其父节点的位置就是 n/2**。"
   ]
  },
  {
   "cell_type": "code",
   "execution_count": null,
   "metadata": {},
   "outputs": [],
   "source": [
    "class BinaryHeap():\n",
    "    # 新建二叉堆\n",
    "    def __init__(self):\n",
    "        self.heapList = [0]\n",
    "        self.currentSize = 0\n",
    "\n",
    "    # 新元素上移\n",
    "    def percUp(self, i): \n",
    "        while i//2>0:\n",
    "            if self.heapList[i] < self.heapList[i // 2]: # 如果子节点你小于父节点则交换位置（上移）\n",
    "                self.heapList[i],self.heapList[i // 2] = self.heapList[i // 2],self.heapList[i]\n",
    "            i = i // 2 \n",
    "    \n",
    "    # 插入新元素\n",
    "    def insert(self, k):\n",
    "        self.heapList.append(k)\n",
    "        self.currentSize = self.currentSize + 1\n",
    "        self.percUp(self.currentSize)\n",
    "        \n",
    "    def percDown(self, i):\n",
    "        while (i * 2) <= self.currentSize: # 代表是有叶节点的\n",
    "            mc = self.minChild(i) # 最小叶节点\n",
    "            if self.heapList[i] > self.heapList[mc]:\n",
    "                self.heapList[mc],self.heapList[i] = self.heapList[i],self.heapList[mc]\n",
    "            i = mc\n",
    "\n",
    "    def minChild(self, i):\n",
    "        if i * 2 + 1 > self.currentSize: # 如果只有一个叶节点，那就return唯一一个\n",
    "                return i * 2\n",
    "        else: # 否则就判断哪个比较小\n",
    "            if self.heapList[i*2] < self.heapList[i*2+1]:\n",
    "                return i * 2\n",
    "            else:\n",
    "                return i * 2 + 1\n",
    "\n",
    "    # 二叉堆中删除最小的元素\n",
    "    def delMin(self):\n",
    "        retval = self.heapList[1] # 根节点\n",
    "        self.heapList[1] = self.heapList[self.currentSize]  \n",
    "        self.currentSize = self.currentSize - 1\n",
    "        self.heapList.pop() # 弹出最后一个叶节点\n",
    "        self.percDown(1) # 一层层往下放\n",
    "        return retval # return最小的数\n",
    "\n",
    "    # 根据元素列表构建堆    \n",
    "    def buildHeap(self, alist):\n",
    "        i = len(alist) // 2\n",
    "        self.currentSize = len(alist)\n",
    "        self.heapList = [0] + alist[:]\n",
    "        while (i > 0):\n",
    "            self.percDown(i) \n",
    "            i = i - 1 "
   ]
  },
  {
   "cell_type": "markdown",
   "metadata": {},
   "source": [
    "## 二叉搜索树"
   ]
  },
  {
   "cell_type": "markdown",
   "metadata": {},
   "source": [
    "在实现搜索树之前，我们来复习一下映射抽象数据类型提供的接口。你会发现，这个接口类\n",
    "似于 Python 字典。\n",
    "\n",
    "1.Map()新建一个空的映射。\n",
    "\n",
    "2.put(key, val)往映射中加入一个新的键–值对。如果键已经存在，就用新值替换旧值。  get(key)返回 key 对应的值。如果 key 不存在，则返回 None。\n",
    "\n",
    "3.del 通过 del map[key]这样的语句从映射中删除键–值对。\n",
    "\n",
    "4.len()返回映射中存储的键–值对的数目。\n",
    "\n",
    "5.in 通过 key in map 这样的语句，在键存在时返回 True，否则返回 False。\n"
   ]
  },
  {
   "cell_type": "markdown",
   "metadata": {},
   "source": [
    "二叉搜索树依赖于这样一个性质:小于父节点的键都在左子树中，大于父节点的键则都在右子树中。我们称这个性质为二叉搜索性，它会引导我们实现上述映射接口。"
   ]
  },
  {
   "cell_type": "markdown",
   "metadata": {},
   "source": [
    "我们将采用“节点与引用”表示法实现二叉搜索树，它类似于我们在实现链表和表达式树时 采用的方法。不过，由于必须创建并处理一棵空的二叉搜索树，因此我们将使用两个类。一个称作 BinarySearchTree，另一个称作 TreeNode。BinarySearchTree 类有一个引用，指向作为二叉搜索树根节点的 TreeNode 类。大多数情况下，外面这个类的方法只是检查树是否为空。 如果树中有节点，请求就被发往 BinarySearchTree 类的私有方法，这个方法以根节点作为参数。当树为空，或者想删除根节点的键时，需要采取特殊措施。"
   ]
  },
  {
   "cell_type": "code",
   "execution_count": 6,
   "metadata": {},
   "outputs": [],
   "source": [
    "class BinarySearchTree:\n",
    "\n",
    "    def __init__(self):\n",
    "        self.root = None\n",
    "        self.size = 0\n",
    "    \n",
    "    def length(self):\n",
    "        return self.size\n",
    "    \n",
    "    def __len__(self):\n",
    "        return self.size\n",
    "    \n",
    "    def __iter__(self):\n",
    "        return self.root.__iter__()\n",
    "\n",
    "\n",
    "# TreeNode 类提供了很多辅助函数，这大大地简化了 BinarySearchTree 类的工作\n",
    "class TreeNode:\n",
    "    def __init__(self,key, val, left=None, right=None,\n",
    "                                         parent=None):\n",
    "        self.key = key\n",
    "        self.payload = val\n",
    "        self.leftChild = left\n",
    "        self.rightChild = right\n",
    "        self.parent = parent\n",
    "\n",
    "    def hasLeftChild(self):\n",
    "        return self.leftChild\n",
    "\n",
    "    def hasRightChild(self):\n",
    "          return self.rightChild\n",
    "\n",
    "    def isLeftChild(self):\n",
    "        return self.parent and \\\n",
    "        self.parent.leftChild == self \n",
    "\n",
    "    def isRightChild(self):\n",
    "        return self.parent and \\\n",
    "            self.parent.rightChild == self\n",
    "    \n",
    "    def isRoot(self):\n",
    "        return not self.parent\n",
    "\n",
    "    def isLeaf(self):\n",
    "        return not (self.rightChild or self.leftChild)\n",
    "\n",
    "    def hasAnyChildren(self):\n",
    "        return self.rightChild or self.leftChild\n",
    "\n",
    "    def hasBothChildren(self):\n",
    "        return self.rightChild and self.leftChild\n",
    "\n",
    "    def replaceNodeData(self, key, value, lc, rc):\n",
    "        self.key = key\n",
    "        self.payload = value\n",
    "        self.leftChild = lc\n",
    "        self.rightChild = rc\n",
    "\n",
    "        if self.hasLeftChild():\n",
    "            self.leftChild.parent = self\n",
    "\n",
    "        if self.hasRightChild():\n",
    "            self.rightChild.parent = self\n",
    "    \n",
    "\n",
    "\n",
    "    # put 是 BinarySearchTree 类的一个方法。它检查树是否已经有根节点，\n",
    "    # 若没有，就创建一个 TreeNode，并将其作为树的根节点;\n",
    "    # 若有，就调用私有的递归辅助函数_put，并根据 以下算法在树中搜索。\n",
    "    # 1.从根节点开始搜索二叉树，比较新键与当前节点的键。如果新键更小，搜索左子树。如果新键更大，搜索右子树。\n",
    "    # 2.当没有可供搜索的左(右)子节点时，就说明找到了新键的插入位置。\n",
    "    # 3.向树中插入一个节点，做法是创建一个TreeNode 对象，并将其插入到前一步发现的位置上。\n",
    "    def put(self, key, val):\n",
    "        if self.root: # 有根节点就调用私有的递归辅助函数_put，并根据以下算法在树中搜索。\n",
    "            self._put(key, val, self.root)\n",
    "        else:  # 没有根节点，创建一个 TreeNode，并将其作为树的根节点;\n",
    "            self.root = TreeNode(key, val)\n",
    "        self.size = self.size + 1\n",
    "\n",
    "    def _put(self, key, val, currentNode):\n",
    "        if key < currentNode.key: # 如果新键更小，搜索左子树\n",
    "            if currentNode.hasLeftChild():\n",
    "                self._put(key, val, currentNode.leftChild)\n",
    "            else:\n",
    "                currentNode.leftChild = TreeNode(key, val,\n",
    "                                    parent=currentNode)\n",
    "        else:\n",
    "            if currentNode.hasRightChild():\n",
    "                self._put(key, val, currentNode.rightChild)\n",
    "            else:\n",
    "                currentNode.rightChild = TreeNode(key, val,\n",
    "                                    parent=currentNode)\n",
    "\n",
    "\n",
    "\n",
    "    # 定义 put 方法后，就可以方便地通过让__setitem__方法调用 put 方法来重载[]运算符。 \n",
    "    # 如此一来，就可以写出像 myZipTree['Plymouth'] = 55446 这样的 Python 语句，\n",
    "    # 就如同访问Python字典一样。\n",
    "    def __setitem__(self, k, v):\n",
    "        self.put(k, v)\n",
    "\n",
    "\n",
    "\n",
    "    # _get 方法中的搜索代码和_put 方法中选择左右子节点的逻辑相同。\n",
    "    # 注意，_get 方法返回一个TreeNode给 get。这样一来，对于其他 BinarySearchTree 方法来说，\n",
    "    # 如果需要使用 TreeNode 有效载荷之外的数据，_get可以作为灵活的辅助函数使用。\n",
    "    def get(self,key):\n",
    "        if self.root:\n",
    "            res = self._get(key,self.root)\n",
    "            if res:\n",
    "                return res.payload\n",
    "            else:\n",
    "                return None\n",
    "        else:\n",
    "            return None\n",
    "    \n",
    "    def _get(self,key,currentNode):\n",
    "        if not currentNode:\n",
    "            return None\n",
    "        elif currentNode.key ==key:\n",
    "            return currentNode\n",
    "        \n",
    "        elif key < currentNode.key:\n",
    "            return self._get(key,currentNode.leftChild)\n",
    "        else:\n",
    "            return self._get(key,currentNode.rightChild)\n",
    "\n",
    "    def __getitem__(self,key):\n",
    "        return self.get(key)\n",
    "\n",
    "\n",
    "\n",
    "\n",
    "    # 利用 get 方法，可以通过为 BinarySearchTree 编写__contains__方法来实现 in 操作。\n",
    "    # __contains__方法只需调用 get 方法，并在 get 方法返回一个值时返回 True，或在get方法返回 None时返回 False。\n",
    "    def __contains__(self, key):\n",
    "        if self._get(key, self.root):\n",
    "            return True\n",
    "        else:\n",
    "            return False\n",
    "\n",
    "\n",
    "\n",
    "    # delete方法\n",
    "    def delete(self, key):\n",
    "        if self.size > 1:\n",
    "            nodeToRemove = self._get(key, self.root)\n",
    "            if nodeToRemove:  # 如果能够找到待删除的key\n",
    "                self.remove(nodeToRemove)\n",
    "                self.size = self.size - 1\n",
    "            else:\n",
    "                raise KeyError('Error, key not in tree')\n",
    "        elif self.size == 1 and self.root.key == key:\n",
    "            self.root = None\n",
    "            self.size = self.size - 1\n",
    "        else:\n",
    "            raise KeyError('Error, key not in tree')\n",
    "\n",
    "    def __delitem__(self, key):\n",
    "        self.delete(key)\n",
    "\n",
    "    \n",
    "    # 找到key对应的节点后要考虑三种情况\n",
    "    # 删除节点又0,1,2个子节点\n",
    "\n",
    "    # case1 没有子节点\n",
    "    if currentNode.isLeaf():\n",
    "        if currentNode == currentNode.parent.leftChild:\n",
    "            currentNode.parent.leftChild = None\n",
    "        else:\n",
    "            currentNode.parent.rightChild = None\n",
    "    \n",
    "    # case2 一个子节点\n",
    "    # 1，如果当前节点是一个左(右)子节点，只需将当前节点的左(右)子节点对父节点的引用改为指向当 前节点的父节点，\n",
    "    # 然后将父节点对当前节点的引用改为指向当前节点的左(右)子节点。\n",
    "    # 2.如果当前节点没有父节点，那它肯定是根节点。调用replaceNodeData方法，\n",
    "    # 替换根节点的 key、payload、leftChild 和 rightChild 数据。\n",
    "\n",
    "    else: # 只有一个子节点\n",
    "        if currentNode.hasLeftChild():\n",
    "                if currentNode.isLeftChild():\n",
    "                        currentNode.leftChild.parent = currentNode.parent\n",
    "                        currentNode.parent.leftChild = currentNode.leftChild\n",
    "                elif currentNode.isRightChild():\n",
    "                        currentNode.leftChild.parent = currentNode.parent\n",
    "                        currentNode.parent.rightChild = currentNode.leftChild\n",
    "                else: currentNode.replaceNodeData(currentNode.leftChild.key,\n",
    "                                                currentNode.leftChild.payload,\n",
    "                                                currentNode.leftChild.leftChild,\n",
    "                                                currentNode.leftChild.rightChild)\n",
    "        else:\n",
    "            if currentNode.isLeftChild():\n",
    "                currentNode.rightChild.parent = currentNode.parent\n",
    "                currentNode.parent.leftChild = currentNode.rightChild\n",
    "            elif currentNode.isRightChild():\n",
    "                currentNode.rightChild.parent = currentNode.parent\n",
    "                currentNode.parent.rightChild = currentNode.rightChild\n",
    "            else:\n",
    "                currentNode.replaceNodeData(currentNode.rightChild.key, currentNode.rightChild.payload,\n",
    "                                                    currentNode.rightChild.leftChild,\n",
    "                                                    currentNode.rightChild.rightChild)         "
   ]
  },
  {
   "cell_type": "code",
   "execution_count": null,
   "metadata": {},
   "outputs": [],
   "source": []
  }
 ],
 "metadata": {
  "kernelspec": {
   "display_name": "Python 3.8.6 64-bit ('tfpy39')",
   "language": "python",
   "name": "python3"
  },
  "language_info": {
   "codemirror_mode": {
    "name": "ipython",
    "version": 3
   },
   "file_extension": ".py",
   "mimetype": "text/x-python",
   "name": "python",
   "nbconvert_exporter": "python",
   "pygments_lexer": "ipython3",
   "version": "3.8.6"
  },
  "orig_nbformat": 4,
  "vscode": {
   "interpreter": {
    "hash": "7c98f917436e91ad7f0c3d4f5d9b3df817d2512acd5c63c803caddd09106776b"
   }
  }
 },
 "nbformat": 4,
 "nbformat_minor": 2
}
