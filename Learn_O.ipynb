{
 "cells": [
  {
   "cell_type": "code",
   "execution_count": 17,
   "metadata": {},
   "outputs": [
    {
     "ename": "TypeError",
     "evalue": "test_list() missing 1 required positional argument: 'num'",
     "output_type": "error",
     "traceback": [
      "\u001b[0;31m---------------------------------------------------------------------------\u001b[0m",
      "\u001b[0;31mTypeError\u001b[0m                                 Traceback (most recent call last)",
      "\u001b[1;32m/Users/hzh/Library/Mobile Documents/com~apple~CloudDocs/程序/学习程序/知识点/数据结构与算法/Learn_O.ipynb Cell 1\u001b[0m in \u001b[0;36m<cell line: 11>\u001b[0;34m()\u001b[0m\n\u001b[1;32m     <a href='vscode-notebook-cell:/Users/hzh/Library/Mobile%20Documents/com~apple~CloudDocs/%E7%A8%8B%E5%BA%8F/%E5%AD%A6%E4%B9%A0%E7%A8%8B%E5%BA%8F/%E7%9F%A5%E8%AF%86%E7%82%B9/%E6%95%B0%E6%8D%AE%E7%BB%93%E6%9E%84%E4%B8%8E%E7%AE%97%E6%B3%95/Learn_O.ipynb#ch0000000?line=10'>11</a>\u001b[0m \u001b[39mfor\u001b[39;00m n \u001b[39min\u001b[39;00m num:\n\u001b[1;32m     <a href='vscode-notebook-cell:/Users/hzh/Library/Mobile%20Documents/com~apple~CloudDocs/%E7%A8%8B%E5%BA%8F/%E5%AD%A6%E4%B9%A0%E7%A8%8B%E5%BA%8F/%E7%9F%A5%E8%AF%86%E7%82%B9/%E6%95%B0%E6%8D%AE%E7%BB%93%E6%9E%84%E4%B8%8E%E7%AE%97%E6%B3%95/Learn_O.ipynb#ch0000000?line=11'>12</a>\u001b[0m \u001b[39m#     test_list(int(n))\u001b[39;00m\n\u001b[1;32m     <a href='vscode-notebook-cell:/Users/hzh/Library/Mobile%20Documents/com~apple~CloudDocs/%E7%A8%8B%E5%BA%8F/%E5%AD%A6%E4%B9%A0%E7%A8%8B%E5%BA%8F/%E7%9F%A5%E8%AF%86%E7%82%B9/%E6%95%B0%E6%8D%AE%E7%BB%93%E6%9E%84%E4%B8%8E%E7%AE%97%E6%B3%95/Learn_O.ipynb#ch0000000?line=12'>13</a>\u001b[0m     t1 \u001b[39m=\u001b[39m Timer(\u001b[39m\"\u001b[39m\u001b[39mtest_list()\u001b[39m\u001b[39m\"\u001b[39m,\u001b[39m\"\u001b[39m\u001b[39mfrom __main__ import test_list\u001b[39m\u001b[39m\"\u001b[39m)\n\u001b[0;32m---> <a href='vscode-notebook-cell:/Users/hzh/Library/Mobile%20Documents/com~apple~CloudDocs/%E7%A8%8B%E5%BA%8F/%E5%AD%A6%E4%B9%A0%E7%A8%8B%E5%BA%8F/%E7%9F%A5%E8%AF%86%E7%82%B9/%E6%95%B0%E6%8D%AE%E7%BB%93%E6%9E%84%E4%B8%8E%E7%AE%97%E6%B3%95/Learn_O.ipynb#ch0000000?line=13'>14</a>\u001b[0m     time \u001b[39m=\u001b[39m t1\u001b[39m.\u001b[39;49mtimeit(number\u001b[39m=\u001b[39;49m \u001b[39m1000\u001b[39;49m)\n\u001b[1;32m     <a href='vscode-notebook-cell:/Users/hzh/Library/Mobile%20Documents/com~apple~CloudDocs/%E7%A8%8B%E5%BA%8F/%E5%AD%A6%E4%B9%A0%E7%A8%8B%E5%BA%8F/%E7%9F%A5%E8%AF%86%E7%82%B9/%E6%95%B0%E6%8D%AE%E7%BB%93%E6%9E%84%E4%B8%8E%E7%AE%97%E6%B3%95/Learn_O.ipynb#ch0000000?line=14'>15</a>\u001b[0m     \u001b[39mprint\u001b[39m(time)\n",
      "File \u001b[0;32m~/miniforge3/envs/tfpy39/lib/python3.8/timeit.py:177\u001b[0m, in \u001b[0;36mTimer.timeit\u001b[0;34m(self, number)\u001b[0m\n\u001b[1;32m    175\u001b[0m gc\u001b[39m.\u001b[39mdisable()\n\u001b[1;32m    176\u001b[0m \u001b[39mtry\u001b[39;00m:\n\u001b[0;32m--> 177\u001b[0m     timing \u001b[39m=\u001b[39m \u001b[39mself\u001b[39;49m\u001b[39m.\u001b[39;49minner(it, \u001b[39mself\u001b[39;49m\u001b[39m.\u001b[39;49mtimer)\n\u001b[1;32m    178\u001b[0m \u001b[39mfinally\u001b[39;00m:\n\u001b[1;32m    179\u001b[0m     \u001b[39mif\u001b[39;00m gcold:\n",
      "File \u001b[0;32m<timeit-src>:6\u001b[0m, in \u001b[0;36minner\u001b[0;34m(_it, _timer)\u001b[0m\n",
      "\u001b[0;31mTypeError\u001b[0m: test_list() missing 1 required positional argument: 'num'"
     ]
    }
   ],
   "source": [
    "# 设计一个实验，证明列表的索引操作为常数阶。\n",
    "\n",
    "from timeit import Timer\n",
    "\n",
    "def test_list(num):\n",
    "        list = [i for i in range(num)]\n",
    "\n",
    "\n",
    "\n",
    "num = [1e2,1e3,1e4,1e5,1e6]\n",
    "for n in num:\n",
    "#     test_list(int(n))\n",
    "    t1 = Timer(\"test_list()\",\"from __main__ import test_list\")\n",
    "    time = t1.timeit(number= 1000)\n",
    "    print(time)\n",
    "\n",
    "\n",
    "\n",
    "\n",
    "\n"
   ]
  },
  {
   "cell_type": "code",
   "execution_count": null,
   "metadata": {},
   "outputs": [],
   "source": [
    "from timeit import Timer\n",
    "popzero = Timer(\"x.pop(0)\",\n",
    "                  \"from __main__ import x\")\n",
    "popend = Timer(\"x.pop()\",\n",
    "                 \"from __main__ import x\")\n",
    "print(\"pop(0) pop()\")\n",
    "for i in range(1000000, 100000001, 1000000):\n",
    "       x = list(range(i))\n",
    "       pt = popend.timeit(number=1000)\n",
    "       x = list(range(i))\n",
    "       pz = popzero.timeit(number=1000)\n",
    "       print(\"%15.5f, %15.5f\" % (pz, pt))"
   ]
  },
  {
   "cell_type": "code",
   "execution_count": 36,
   "metadata": {},
   "outputs": [
    {
     "name": "stdout",
     "output_type": "stream",
     "text": [
      "2.8499999871201e-05\n",
      "2.8375000056257704e-05\n",
      "2.6957999807564192e-05\n",
      "2.8332999818303506e-05\n",
      "2.7374999945095624e-05\n",
      "2.9332999929465586e-05\n",
      "2.95419999929436e-05\n"
     ]
    },
    {
     "data": {
      "text/plain": [
       "[<matplotlib.lines.Line2D at 0x106981be0>]"
      ]
     },
     "execution_count": 36,
     "metadata": {},
     "output_type": "execute_result"
    },
    {
     "data": {
      "image/png": "[encoded data removed]",
      "text/plain": [
       "<Figure size 432x288 with 1 Axes>"
      ]
     },
     "metadata": {
      "needs_background": "light"
     },
     "output_type": "display_data"
    }
   ],
   "source": [
    "from timeit import Timer\n",
    "import matplotlib.pyplot as plt\n",
    "\n",
    "        \n",
    "t1 = Timer(\"list\",\"from __main__ import list\")\n",
    "time_list = []\n",
    "\n",
    "num = [1e2,1e3,1e4,1e5,1e6,1e7,1e8]\n",
    "for n in num:\n",
    "    list = [i for i in range(int(n))]\n",
    "    time = t1.timeit(number= 1000)\n",
    "    print(time)\n",
    "    time_list.append(time)\n",
    "\n",
    "plt.plot(num,time_list)"
   ]
  },
  {
   "cell_type": "code",
   "execution_count": 41,
   "metadata": {},
   "outputs": [
    {
     "ename": "TypeError",
     "evalue": "'type' object is not iterable",
     "output_type": "error",
     "traceback": [
      "\u001b[0;31m---------------------------------------------------------------------------\u001b[0m",
      "\u001b[0;31mTypeError\u001b[0m                                 Traceback (most recent call last)",
      "\u001b[1;32m/Users/hzh/Library/Mobile Documents/com~apple~CloudDocs/程序/学习程序/知识点/数据结构与算法/Learn_O.ipynb Cell 4\u001b[0m in \u001b[0;36m<cell line: 14>\u001b[0;34m()\u001b[0m\n\u001b[1;32m     <a href='vscode-notebook-cell:/Users/hzh/Library/Mobile%20Documents/com~apple~CloudDocs/%E7%A8%8B%E5%BA%8F/%E5%AD%A6%E4%B9%A0%E7%A8%8B%E5%BA%8F/%E7%9F%A5%E8%AF%86%E7%82%B9/%E6%95%B0%E6%8D%AE%E7%BB%93%E6%9E%84%E4%B8%8E%E7%AE%97%E6%B3%95/Learn_O.ipynb#ch0000009?line=14'>15</a>\u001b[0m \u001b[39mlist\u001b[39m \u001b[39m=\u001b[39m [i \u001b[39mfor\u001b[39;00m i \u001b[39min\u001b[39;00m \u001b[39mrange\u001b[39m(\u001b[39mint\u001b[39m(n))]\n\u001b[1;32m     <a href='vscode-notebook-cell:/Users/hzh/Library/Mobile%20Documents/com~apple~CloudDocs/%E7%A8%8B%E5%BA%8F/%E5%AD%A6%E4%B9%A0%E7%A8%8B%E5%BA%8F/%E7%9F%A5%E8%AF%86%E7%82%B9/%E6%95%B0%E6%8D%AE%E7%BB%93%E6%9E%84%E4%B8%8E%E7%AE%97%E6%B3%95/Learn_O.ipynb#ch0000009?line=15'>16</a>\u001b[0m func(\u001b[39mlist\u001b[39m)\n\u001b[0;32m---> <a href='vscode-notebook-cell:/Users/hzh/Library/Mobile%20Documents/com~apple~CloudDocs/%E7%A8%8B%E5%BA%8F/%E5%AD%A6%E4%B9%A0%E7%A8%8B%E5%BA%8F/%E7%9F%A5%E8%AF%86%E7%82%B9/%E6%95%B0%E6%8D%AE%E7%BB%93%E6%9E%84%E4%B8%8E%E7%AE%97%E6%B3%95/Learn_O.ipynb#ch0000009?line=16'>17</a>\u001b[0m time \u001b[39m=\u001b[39m t1\u001b[39m.\u001b[39;49mtimeit(number\u001b[39m=\u001b[39;49m \u001b[39m1000\u001b[39;49m)\n\u001b[1;32m     <a href='vscode-notebook-cell:/Users/hzh/Library/Mobile%20Documents/com~apple~CloudDocs/%E7%A8%8B%E5%BA%8F/%E5%AD%A6%E4%B9%A0%E7%A8%8B%E5%BA%8F/%E7%9F%A5%E8%AF%86%E7%82%B9/%E6%95%B0%E6%8D%AE%E7%BB%93%E6%9E%84%E4%B8%8E%E7%AE%97%E6%B3%95/Learn_O.ipynb#ch0000009?line=17'>18</a>\u001b[0m \u001b[39mprint\u001b[39m(time)\n\u001b[1;32m     <a href='vscode-notebook-cell:/Users/hzh/Library/Mobile%20Documents/com~apple~CloudDocs/%E7%A8%8B%E5%BA%8F/%E5%AD%A6%E4%B9%A0%E7%A8%8B%E5%BA%8F/%E7%9F%A5%E8%AF%86%E7%82%B9/%E6%95%B0%E6%8D%AE%E7%BB%93%E6%9E%84%E4%B8%8E%E7%AE%97%E6%B3%95/Learn_O.ipynb#ch0000009?line=18'>19</a>\u001b[0m time_list\u001b[39m.\u001b[39mappend(time)\n",
      "File \u001b[0;32m~/miniforge3/envs/tfpy39/lib/python3.8/timeit.py:177\u001b[0m, in \u001b[0;36mTimer.timeit\u001b[0;34m(self, number)\u001b[0m\n\u001b[1;32m    175\u001b[0m gc\u001b[39m.\u001b[39mdisable()\n\u001b[1;32m    176\u001b[0m \u001b[39mtry\u001b[39;00m:\n\u001b[0;32m--> 177\u001b[0m     timing \u001b[39m=\u001b[39m \u001b[39mself\u001b[39;49m\u001b[39m.\u001b[39;49minner(it, \u001b[39mself\u001b[39;49m\u001b[39m.\u001b[39;49mtimer)\n\u001b[1;32m    178\u001b[0m \u001b[39mfinally\u001b[39;00m:\n\u001b[1;32m    179\u001b[0m     \u001b[39mif\u001b[39;00m gcold:\n",
      "File \u001b[0;32m<timeit-src>:6\u001b[0m, in \u001b[0;36minner\u001b[0;34m(_it, _timer)\u001b[0m\n",
      "\u001b[1;32m/Users/hzh/Library/Mobile Documents/com~apple~CloudDocs/程序/学习程序/知识点/数据结构与算法/Learn_O.ipynb Cell 4\u001b[0m in \u001b[0;36mfunc\u001b[0;34m(list)\u001b[0m\n\u001b[1;32m      <a href='vscode-notebook-cell:/Users/hzh/Library/Mobile%20Documents/com~apple~CloudDocs/%E7%A8%8B%E5%BA%8F/%E5%AD%A6%E4%B9%A0%E7%A8%8B%E5%BA%8F/%E7%9F%A5%E8%AF%86%E7%82%B9/%E6%95%B0%E6%8D%AE%E7%BB%93%E6%9E%84%E4%B8%8E%E7%AE%97%E6%B3%95/Learn_O.ipynb#ch0000009?line=7'>8</a>\u001b[0m \u001b[39mdef\u001b[39;00m \u001b[39mfunc\u001b[39m(\u001b[39mlist\u001b[39m):\n\u001b[0;32m----> <a href='vscode-notebook-cell:/Users/hzh/Library/Mobile%20Documents/com~apple~CloudDocs/%E7%A8%8B%E5%BA%8F/%E5%AD%A6%E4%B9%A0%E7%A8%8B%E5%BA%8F/%E7%9F%A5%E8%AF%86%E7%82%B9/%E6%95%B0%E6%8D%AE%E7%BB%93%E6%9E%84%E4%B8%8E%E7%AE%97%E6%B3%95/Learn_O.ipynb#ch0000009?line=8'>9</a>\u001b[0m     \u001b[39mfor\u001b[39;00m i \u001b[39min\u001b[39;00m \u001b[39mlist\u001b[39m:\n\u001b[1;32m     <a href='vscode-notebook-cell:/Users/hzh/Library/Mobile%20Documents/com~apple~CloudDocs/%E7%A8%8B%E5%BA%8F/%E5%AD%A6%E4%B9%A0%E7%A8%8B%E5%BA%8F/%E7%9F%A5%E8%AF%86%E7%82%B9/%E6%95%B0%E6%8D%AE%E7%BB%93%E6%9E%84%E4%B8%8E%E7%AE%97%E6%B3%95/Learn_O.ipynb#ch0000009?line=9'>10</a>\u001b[0m         \u001b[39mpass\u001b[39;00m\n",
      "\u001b[0;31mTypeError\u001b[0m: 'type' object is not iterable"
     ]
    }
   ],
   "source": [
    "from timeit import Timer\n",
    "import matplotlib.pyplot as plt\n",
    "\n",
    "        \n",
    "t1 = Timer(\"func(list)\",\"from __main__ import func\")\n",
    "time_list = []\n",
    "\n",
    "def func(list):\n",
    "    for i in list:\n",
    "        pass\n",
    "\n",
    "\n",
    "num = [1e2,1e3,1e4,1e5]\n",
    "for n in num:\n",
    "    list = [i for i in range(int(n))]\n",
    "    func(list)\n",
    "    time = t1.timeit(number= 1000)\n",
    "    print(time)\n",
    "    time_list.append(time)\n",
    "\n",
    "plt.plot(num,time_list)"
   ]
  },
  {
   "cell_type": "code",
   "execution_count": 3,
   "metadata": {},
   "outputs": [
    {
     "data": {
      "text/plain": [
       "3"
      ]
     },
     "execution_count": 3,
     "metadata": {},
     "output_type": "execute_result"
    }
   ],
   "source": [
    "# 给定一个数字列表，其中的数字随机排列，编写一个线性阶算法，找出第 k 小的元素， 并解释为何该算法的阶是线性的。\n",
    "\n",
    "# O(nk)\n",
    "import math\n",
    "def find_min(list,k):\n",
    "    \n",
    "    while k > 0:\n",
    "        min = list[0]\n",
    "        for i in list:\n",
    "            if min >i:\n",
    "                min = i\n",
    "      \n",
    "        list.remove(min)\n",
    "        k = k-1\n",
    "    return min\n",
    "\n",
    "\n",
    "\n",
    "\n",
    "list = [5,2,7,4,3,8,6,1,7]\n",
    "find_min(list,3)\n",
    "\n",
    "\n"
   ]
  }
 ],
 "metadata": {
  "kernelspec": {
   "display_name": "Python 3.8.6 64-bit ('tfpy39')",
   "language": "python",
   "name": "python3"
  },
  "language_info": {
   "codemirror_mode": {
    "name": "ipython",
    "version": 3
   },
   "file_extension": ".py",
   "mimetype": "text/x-python",
   "name": "python",
   "nbconvert_exporter": "python",
   "pygments_lexer": "ipython3",
   "version": "3.8.6"
  },
  "orig_nbformat": 4,
  "vscode": {
   "interpreter": {
    "hash": "7c98f917436e91ad7f0c3d4f5d9b3df817d2512acd5c63c803caddd09106776b"
   }
  }
 },
 "nbformat": 4,
 "nbformat_minor": 2
}
