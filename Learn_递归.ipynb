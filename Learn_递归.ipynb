{
 "cells": [
  {
   "cell_type": "markdown",
   "metadata": {},
   "source": [
    "正如阿西莫夫提出的机器人三原则一样，所有的递归算法都要遵守三个重要的原则:\n",
    "\n",
    "(1) 递归算法必须有基本情况;\n",
    "\n",
    "(2) 递归算法必须改变其状态并向基本情况靠近;\n",
    "\n",
    "(3) 递归算法必须递归地调用自己。"
   ]
  },
  {
   "cell_type": "code",
   "execution_count": 8,
   "metadata": {},
   "outputs": [
    {
     "data": {
      "text/plain": [
       "'1010'"
      ]
     },
     "execution_count": 8,
     "metadata": {},
     "output_type": "execute_result"
    }
   ],
   "source": [
    "#case1：整数变成任意进制字符串\n",
    "\n",
    "list = []\n",
    "def toNum (n,model):\n",
    "    convertString = \"0123456789ABCDEF\"\n",
    "\n",
    "    if n<model:\n",
    "        return convertString[n]\n",
    "    else:\n",
    "        return toNum(n//model, model) + convertString[n%model]\n",
    "\n",
    "\n",
    "n = 10\n",
    "model = 2\n",
    "toNum(n,model) #n变成 model进制"
   ]
  },
  {
   "cell_type": "code",
   "execution_count": 18,
   "metadata": {},
   "outputs": [
    {
     "name": "stdout",
     "output_type": "stream",
     "text": [
      "1\n",
      "0\n",
      "1\n",
      "0\n"
     ]
    }
   ],
   "source": [
    "from pythonds.basic import Stack\n",
    "rStack = Stack()\n",
    "def toStr(n, base):\n",
    "    convertString = \"0123456789ABCDEF\"\n",
    "    if n < base:\n",
    "       rStack.push(convertString[n])\n",
    "       while rStack.isEmpty() == False:\n",
    "            print(rStack.pop())\n",
    "       \n",
    "    else:\n",
    "       rStack.push(convertString[n % base])\n",
    "       toStr(n // base, base)\n",
    "\n",
    "toStr(10,2)\n"
   ]
  },
  {
   "cell_type": "markdown",
   "metadata": {},
   "source": [
    "## 动态规划"
   ]
  },
  {
   "cell_type": "code",
   "execution_count": 1,
   "metadata": {},
   "outputs": [
    {
     "data": {
      "text/plain": [
       "6"
      ]
     },
     "execution_count": 1,
     "metadata": {},
     "output_type": "execute_result"
    }
   ],
   "source": [
    "# 找零问题\n",
    "#如果要找的零钱金额与硬币的面值相同，那么只需找 1 枚硬币即可。\n",
    "#如果要找的零钱金额和硬币的面值不同，则有多种选择:\n",
    "# 1 枚 1 分的硬币加上找零金额减去 1 分之后所需的硬币;\n",
    "# 1 枚 5 分的硬币加上找零金额减去 5 分之后所需的硬币;\n",
    "# 1 枚 10 分的硬币 加上找零金额减去 10 分之后所需的硬币;\n",
    "# 1 枚 25 分的硬币加上找零金额减去 25 分之后所需的硬币。\n",
    "# 我们需要从中找到硬币数最少的情况\n",
    "\n",
    "\n",
    "def recMC(coinValueList, change):\n",
    "    minCoins = change\n",
    "    if change in coinValueList: # 如果有就只需要找一次\n",
    "        return 1\n",
    "    else:\n",
    "        for i in [c for c in coinValueList if c <= change]: # 如果剩下金额小于单个硬币金额 那就把可以使用的单个硬币做成list\n",
    "            numCoins = 1 + recMC(coinValueList, change-i)  # 进行迭代，change减去已经使用的单个硬币\n",
    "            if numCoins < minCoins:\n",
    "                minCoins = numCoins\n",
    "    return minCoins\n",
    "\n",
    "recMC([1, 5, 10, 25], 63) # 有 1 5 10 25面额的硬币\n"
   ]
  },
  {
   "cell_type": "code",
   "execution_count": 5,
   "metadata": {},
   "outputs": [
    {
     "data": {
      "text/plain": [
       "6"
      ]
     },
     "execution_count": 5,
     "metadata": {},
     "output_type": "execute_result"
    }
   ],
   "source": [
    "# 上面算法的效率非常低。等于把所有可能性都列出来，并且还有很多重复结果\n",
    "# 使用查询表的方法，使得已经计算过得值可以直接使用\n",
    "# 通过记忆化(或者叫作缓存)的方法来优化程序的性能\n",
    "\n",
    "def recMC(coinValueList, change,knownResult):\n",
    "    minCoins = change\n",
    "    if change in coinValueList:\n",
    "        knownResult[change] = 1\n",
    "        return 1\n",
    "    elif knownResult[change] > 0:  # 表中已经有值了，就可以直接用\n",
    "        return knownResult[change]\n",
    "    else:\n",
    "        for i in [c for c in coinValueList if c <= change]: \n",
    "            numCoins = 1 + recMC(coinValueList, change-i,knownResult)  \n",
    "            if numCoins < minCoins:\n",
    "                minCoins = numCoins\n",
    "                knownResult[change] = minCoins\n",
    "    return minCoins\n",
    "\n",
    "recMC([1, 5, 10, 25], 63,[0]*64) \n"
   ]
  },
  {
   "cell_type": "markdown",
   "metadata": {},
   "source": [
    " 真正的动态规划算法会用更系统化的方法来解决问题。\n",
    "\n",
    " 在解决找零问题时，动态规划算法会 从 1 分找零开始，然后系统地一直计算到所需的找零金额。\n",
    " \n",
    " 这样做可以保证在每一步都已经知道 任何小于当前值的找零金额所需的最少硬币数。\n",
    "\n",
    "\n",
    "\n",
    " 程序思路 ，首先会知道 change=1需要多少硬币 =2 需要多少，依次类推\n",
    "\n",
    " 如果我们需要change=11需要多少，我们就可以视作， 11-1=10 那么 change=10需要多少，或者 11-5=6 change6需要多少\n",
    "\n",
    " 这样可以把问题分解陈成小问题\n",
    "\n",
    " f(11) = f(10)+1或 f(6)+1而 10 和 6 会更好计算"
   ]
  },
  {
   "cell_type": "code",
   "execution_count": 13,
   "metadata": {},
   "outputs": [
    {
     "data": {
      "text/plain": [
       "3"
      ]
     },
     "execution_count": 13,
     "metadata": {},
     "output_type": "execute_result"
    }
   ],
   "source": [
    "def dpMakeChange(coinValueList, change, minCoins):\n",
    "    for cent in range(1,change + 1):\n",
    "        coincount = cent # 个数设为最大值，最多就是用x个1来代表\n",
    "        for j in [c for c in coinValueList if c <= cent]:\n",
    "            if minCoins[cent - j] + 1 < coincount:  # 分别先使用第一个值为小于面额值的单个硬币大小，然后找到最小次数大小\n",
    "                coincount = minCoins[cent - j] + 1\n",
    "        minCoins[cent] = coincount  # 找到后赋值给list\n",
    "\n",
    "    # print(minCoins)  # 不同金额的最少次数list\n",
    "    return minCoins[change]\n",
    "\n",
    "n = 63\n",
    "dpMakeChange([1, 5, 10, 21, 25], n, [0]*(n+1))\n",
    "\n",
    "\n",
    "\n",
    "\n",
    "\n",
    "\n",
    "\n",
    "\n"
   ]
  },
  {
   "cell_type": "code",
   "execution_count": 5,
   "metadata": {},
   "outputs": [
    {
     "data": {
      "text/plain": [
       "True"
      ]
     },
     "execution_count": 5,
     "metadata": {},
     "output_type": "execute_result"
    }
   ],
   "source": [
    "def isPalindrome( x):\n",
    "        \"\"\"\n",
    "        :type x: int\n",
    "        :rtype: bool\n",
    "        \"\"\"\n",
    "        x = str(x)\n",
    "        for i in range(len(x)//2):\n",
    "            a = x[i]\n",
    "            b = x[-(i+1)]\n",
    "            if x[i] != x[-(i+1)]:\n",
    "                return False\n",
    "        else:\n",
    "            return True\n",
    "isPalindrome( 121)"
   ]
  },
  {
   "cell_type": "code",
   "execution_count": 15,
   "metadata": {},
   "outputs": [
    {
     "ename": "ValueError",
     "evalue": "empty separator",
     "output_type": "error",
     "traceback": [
      "\u001b[0;31m---------------------------------------------------------------------------\u001b[0m",
      "\u001b[0;31mValueError\u001b[0m                                Traceback (most recent call last)",
      "\u001b[1;32m/Users/hzh/Library/Mobile Documents/com~apple~CloudDocs/程序/学习程序/知识点/数据结构与算法/Learn_递归.ipynb Cell 10\u001b[0m in \u001b[0;36m<cell line: 2>\u001b[0;34m()\u001b[0m\n\u001b[1;32m      <a href='vscode-notebook-cell:/Users/hzh/Library/Mobile%20Documents/com~apple~CloudDocs/%E7%A8%8B%E5%BA%8F/%E5%AD%A6%E4%B9%A0%E7%A8%8B%E5%BA%8F/%E7%9F%A5%E8%AF%86%E7%82%B9/%E6%95%B0%E6%8D%AE%E7%BB%93%E6%9E%84%E4%B8%8E%E7%AE%97%E6%B3%95/Learn_%E9%80%92%E5%BD%92.ipynb#ch0000009?line=0'>1</a>\u001b[0m a \u001b[39m=\u001b[39m \u001b[39m\"\u001b[39m\u001b[39m12 1\u001b[39m\u001b[39m\"\u001b[39m\n\u001b[0;32m----> <a href='vscode-notebook-cell:/Users/hzh/Library/Mobile%20Documents/com~apple~CloudDocs/%E7%A8%8B%E5%BA%8F/%E5%AD%A6%E4%B9%A0%E7%A8%8B%E5%BA%8F/%E7%9F%A5%E8%AF%86%E7%82%B9/%E6%95%B0%E6%8D%AE%E7%BB%93%E6%9E%84%E4%B8%8E%E7%AE%97%E6%B3%95/Learn_%E9%80%92%E5%BD%92.ipynb#ch0000009?line=1'>2</a>\u001b[0m a\u001b[39m.\u001b[39;49msplit(\u001b[39m'\u001b[39;49m\u001b[39m'\u001b[39;49m)\n",
      "\u001b[0;31mValueError\u001b[0m: empty separator"
     ]
    }
   ],
   "source": []
  },
  {
   "cell_type": "code",
   "execution_count": null,
   "metadata": {},
   "outputs": [],
   "source": []
  }
 ],
 "metadata": {
  "kernelspec": {
   "display_name": "Python 3.8.6 64-bit ('tfpy39')",
   "language": "python",
   "name": "python3"
  },
  "language_info": {
   "codemirror_mode": {
    "name": "ipython",
    "version": 3
   },
   "file_extension": ".py",
   "mimetype": "text/x-python",
   "name": "python",
   "nbconvert_exporter": "python",
   "pygments_lexer": "ipython3",
   "version": "3.8.6"
  },
  "orig_nbformat": 4,
  "vscode": {
   "interpreter": {
    "hash": "7c98f917436e91ad7f0c3d4f5d9b3df817d2512acd5c63c803caddd09106776b"
   }
  }
 },
 "nbformat": 4,
 "nbformat_minor": 2
}
